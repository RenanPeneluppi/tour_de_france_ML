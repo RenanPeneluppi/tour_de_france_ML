{
 "cells": [
  {
   "cell_type": "code",
   "execution_count": 108,
   "metadata": {},
   "outputs": [],
   "source": [
    "# Import packages that I will need for this task\n",
    "\n",
    "import pandas as pd\n",
    "import re \n",
    "import numpy as np\n",
    "import matplotlib.pyplot as plt\n",
    "import seaborn as sns\n",
    "import statsmodels.api as sm\n",
    "\n",
    "\n",
    "from sklearn.ensemble import RandomForestClassifier\n",
    "from sklearn.model_selection import train_test_split\n",
    "from sklearn.metrics import recall_score\n",
    "from sklearn.preprocessing import StandardScaler\n",
    "\n"
   ]
  },
  {
   "cell_type": "markdown",
   "metadata": {},
   "source": [
    "I'm using a new notebook to model.. as I don't want rely on my laptop memory for the entire data set. \n",
    "So The final data frame was saved as a CSV file and now I can just get it again easialy. "
   ]
  },
  {
   "cell_type": "code",
   "execution_count": 109,
   "metadata": {},
   "outputs": [],
   "source": [
    "#bring the file I saved from the scrapping process\n",
    "feat=pd.read_csv('TDF_Feat')"
   ]
  },
  {
   "cell_type": "code",
   "execution_count": 196,
   "metadata": {
    "scrolled": true
   },
   "outputs": [
    {
     "data": {
      "text/plain": [
       "Index(['Unnamed: 0', 'Year', 'Stage', 'Distance', 'StageScore', 'Rnk', 'Rider',\n",
       "       'Age', 'Team', 'Time', 'Winnin Avg_speed', 'R_TT', 'R_onedayrace',\n",
       "       'R_climb', 'R_Sprint', 'R_GC', 'R_height', 'R_weight', 'Winner', 'Gap'],\n",
       "      dtype='object')"
      ]
     },
     "execution_count": 196,
     "metadata": {},
     "output_type": "execute_result"
    }
   ],
   "source": [
    "#check the columns\n",
    "feat.columns"
   ]
  },
  {
   "cell_type": "code",
   "execution_count": 111,
   "metadata": {},
   "outputs": [],
   "source": [
    "feat = feat[['Distance', 'StageScore', 'Rnk', 'Age', 'Time',\n",
    "       'Winnin Avg_speed', 'R_TT', 'R_onedayrace', 'R_climb', 'R_Sprint','R_fit',\n",
    "       'Gap']]"
   ]
  },
  {
   "cell_type": "code",
   "execution_count": 112,
   "metadata": {
    "scrolled": false
   },
   "outputs": [
    {
     "data": {
      "text/html": [
       "<div>\n",
       "<style scoped>\n",
       "    .dataframe tbody tr th:only-of-type {\n",
       "        vertical-align: middle;\n",
       "    }\n",
       "\n",
       "    .dataframe tbody tr th {\n",
       "        vertical-align: top;\n",
       "    }\n",
       "\n",
       "    .dataframe thead th {\n",
       "        text-align: right;\n",
       "    }\n",
       "</style>\n",
       "<table border=\"1\" class=\"dataframe\">\n",
       "  <thead>\n",
       "    <tr style=\"text-align: right;\">\n",
       "      <th></th>\n",
       "      <th>Distance</th>\n",
       "      <th>StageScore</th>\n",
       "      <th>Rnk</th>\n",
       "      <th>Age</th>\n",
       "      <th>Winnin Avg_speed</th>\n",
       "      <th>R_TT</th>\n",
       "      <th>R_onedayrace</th>\n",
       "      <th>R_climb</th>\n",
       "      <th>R_Sprint</th>\n",
       "      <th>R_fit</th>\n",
       "      <th>Gap</th>\n",
       "    </tr>\n",
       "  </thead>\n",
       "  <tbody>\n",
       "    <tr>\n",
       "      <td>0</td>\n",
       "      <td>163</td>\n",
       "      <td>0</td>\n",
       "      <td>1</td>\n",
       "      <td>29</td>\n",
       "      <td>34.560</td>\n",
       "      <td>919</td>\n",
       "      <td>1353</td>\n",
       "      <td>836</td>\n",
       "      <td>1588</td>\n",
       "      <td>0.377778</td>\n",
       "      <td>0</td>\n",
       "    </tr>\n",
       "    <tr>\n",
       "      <td>1</td>\n",
       "      <td>163</td>\n",
       "      <td>0</td>\n",
       "      <td>2</td>\n",
       "      <td>26</td>\n",
       "      <td>34.560</td>\n",
       "      <td>919</td>\n",
       "      <td>1353</td>\n",
       "      <td>836</td>\n",
       "      <td>1588</td>\n",
       "      <td>0.377778</td>\n",
       "      <td>0</td>\n",
       "    </tr>\n",
       "    <tr>\n",
       "      <td>2</td>\n",
       "      <td>163</td>\n",
       "      <td>0</td>\n",
       "      <td>3</td>\n",
       "      <td>27</td>\n",
       "      <td>34.560</td>\n",
       "      <td>919</td>\n",
       "      <td>1353</td>\n",
       "      <td>836</td>\n",
       "      <td>1588</td>\n",
       "      <td>0.377778</td>\n",
       "      <td>0</td>\n",
       "    </tr>\n",
       "    <tr>\n",
       "      <td>3</td>\n",
       "      <td>163</td>\n",
       "      <td>0</td>\n",
       "      <td>4</td>\n",
       "      <td>27</td>\n",
       "      <td>34.560</td>\n",
       "      <td>919</td>\n",
       "      <td>1353</td>\n",
       "      <td>836</td>\n",
       "      <td>1588</td>\n",
       "      <td>0.377778</td>\n",
       "      <td>0</td>\n",
       "    </tr>\n",
       "    <tr>\n",
       "      <td>4</td>\n",
       "      <td>163</td>\n",
       "      <td>0</td>\n",
       "      <td>5</td>\n",
       "      <td>23</td>\n",
       "      <td>34.560</td>\n",
       "      <td>919</td>\n",
       "      <td>1353</td>\n",
       "      <td>836</td>\n",
       "      <td>1588</td>\n",
       "      <td>0.377778</td>\n",
       "      <td>0</td>\n",
       "    </tr>\n",
       "    <tr>\n",
       "      <td>...</td>\n",
       "      <td>...</td>\n",
       "      <td>...</td>\n",
       "      <td>...</td>\n",
       "      <td>...</td>\n",
       "      <td>...</td>\n",
       "      <td>...</td>\n",
       "      <td>...</td>\n",
       "      <td>...</td>\n",
       "      <td>...</td>\n",
       "      <td>...</td>\n",
       "      <td>...</td>\n",
       "    </tr>\n",
       "    <tr>\n",
       "      <td>209222</td>\n",
       "      <td>170</td>\n",
       "      <td>107</td>\n",
       "      <td>169</td>\n",
       "      <td>33</td>\n",
       "      <td>42.064</td>\n",
       "      <td>466</td>\n",
       "      <td>401</td>\n",
       "      <td>41</td>\n",
       "      <td>1409</td>\n",
       "      <td>0.432292</td>\n",
       "      <td>0</td>\n",
       "    </tr>\n",
       "    <tr>\n",
       "      <td>209223</td>\n",
       "      <td>170</td>\n",
       "      <td>107</td>\n",
       "      <td>170</td>\n",
       "      <td>25</td>\n",
       "      <td>42.064</td>\n",
       "      <td>148</td>\n",
       "      <td>1224</td>\n",
       "      <td>201</td>\n",
       "      <td>4592</td>\n",
       "      <td>0.406061</td>\n",
       "      <td>0</td>\n",
       "    </tr>\n",
       "    <tr>\n",
       "      <td>209224</td>\n",
       "      <td>170</td>\n",
       "      <td>107</td>\n",
       "      <td>170</td>\n",
       "      <td>25</td>\n",
       "      <td>42.064</td>\n",
       "      <td>148</td>\n",
       "      <td>1224</td>\n",
       "      <td>201</td>\n",
       "      <td>4592</td>\n",
       "      <td>0.406061</td>\n",
       "      <td>0</td>\n",
       "    </tr>\n",
       "    <tr>\n",
       "      <td>209225</td>\n",
       "      <td>170</td>\n",
       "      <td>107</td>\n",
       "      <td>171</td>\n",
       "      <td>29</td>\n",
       "      <td>42.064</td>\n",
       "      <td>1280</td>\n",
       "      <td>8791</td>\n",
       "      <td>3038</td>\n",
       "      <td>3505</td>\n",
       "      <td>0.423913</td>\n",
       "      <td>0</td>\n",
       "    </tr>\n",
       "    <tr>\n",
       "      <td>209226</td>\n",
       "      <td>170</td>\n",
       "      <td>107</td>\n",
       "      <td>171</td>\n",
       "      <td>29</td>\n",
       "      <td>42.064</td>\n",
       "      <td>1280</td>\n",
       "      <td>8791</td>\n",
       "      <td>3038</td>\n",
       "      <td>3505</td>\n",
       "      <td>0.423913</td>\n",
       "      <td>0</td>\n",
       "    </tr>\n",
       "  </tbody>\n",
       "</table>\n",
       "<p>209227 rows × 11 columns</p>\n",
       "</div>"
      ],
      "text/plain": [
       "        Distance  StageScore  Rnk  Age  Winnin Avg_speed  R_TT  R_onedayrace  \\\n",
       "0            163           0    1   29            34.560   919          1353   \n",
       "1            163           0    2   26            34.560   919          1353   \n",
       "2            163           0    3   27            34.560   919          1353   \n",
       "3            163           0    4   27            34.560   919          1353   \n",
       "4            163           0    5   23            34.560   919          1353   \n",
       "...          ...         ...  ...  ...               ...   ...           ...   \n",
       "209222       170         107  169   33            42.064   466           401   \n",
       "209223       170         107  170   25            42.064   148          1224   \n",
       "209224       170         107  170   25            42.064   148          1224   \n",
       "209225       170         107  171   29            42.064  1280          8791   \n",
       "209226       170         107  171   29            42.064  1280          8791   \n",
       "\n",
       "        R_climb  R_Sprint     R_fit  Gap  \n",
       "0           836      1588  0.377778    0  \n",
       "1           836      1588  0.377778    0  \n",
       "2           836      1588  0.377778    0  \n",
       "3           836      1588  0.377778    0  \n",
       "4           836      1588  0.377778    0  \n",
       "...         ...       ...       ...  ...  \n",
       "209222       41      1409  0.432292    0  \n",
       "209223      201      4592  0.406061    0  \n",
       "209224      201      4592  0.406061    0  \n",
       "209225     3038      3505  0.423913    0  \n",
       "209226     3038      3505  0.423913    0  \n",
       "\n",
       "[209227 rows x 11 columns]"
      ]
     },
     "execution_count": 112,
     "metadata": {},
     "output_type": "execute_result"
    }
   ],
   "source": [
    "feat.drop(['Time'], axis=1)"
   ]
  },
  {
   "cell_type": "code",
   "execution_count": 113,
   "metadata": {},
   "outputs": [
    {
     "data": {
      "text/html": [
       "<div>\n",
       "<style scoped>\n",
       "    .dataframe tbody tr th:only-of-type {\n",
       "        vertical-align: middle;\n",
       "    }\n",
       "\n",
       "    .dataframe tbody tr th {\n",
       "        vertical-align: top;\n",
       "    }\n",
       "\n",
       "    .dataframe thead th {\n",
       "        text-align: right;\n",
       "    }\n",
       "</style>\n",
       "<table border=\"1\" class=\"dataframe\">\n",
       "  <thead>\n",
       "    <tr style=\"text-align: right;\">\n",
       "      <th></th>\n",
       "      <th>Distance</th>\n",
       "      <th>StageScore</th>\n",
       "      <th>Rnk</th>\n",
       "      <th>Age</th>\n",
       "      <th>Time</th>\n",
       "      <th>Winnin Avg_speed</th>\n",
       "      <th>R_TT</th>\n",
       "      <th>R_onedayrace</th>\n",
       "      <th>R_climb</th>\n",
       "      <th>R_Sprint</th>\n",
       "      <th>R_fit</th>\n",
       "      <th>Gap</th>\n",
       "    </tr>\n",
       "  </thead>\n",
       "  <tbody>\n",
       "    <tr>\n",
       "      <td>0</td>\n",
       "      <td>163</td>\n",
       "      <td>0</td>\n",
       "      <td>1</td>\n",
       "      <td>29</td>\n",
       "      <td>0 days 04:42:58.000000000</td>\n",
       "      <td>34.560</td>\n",
       "      <td>919</td>\n",
       "      <td>1353</td>\n",
       "      <td>836</td>\n",
       "      <td>1588</td>\n",
       "      <td>0.377778</td>\n",
       "      <td>0</td>\n",
       "    </tr>\n",
       "    <tr>\n",
       "      <td>1</td>\n",
       "      <td>163</td>\n",
       "      <td>0</td>\n",
       "      <td>2</td>\n",
       "      <td>26</td>\n",
       "      <td>0 days 00:00:02.000000000</td>\n",
       "      <td>34.560</td>\n",
       "      <td>919</td>\n",
       "      <td>1353</td>\n",
       "      <td>836</td>\n",
       "      <td>1588</td>\n",
       "      <td>0.377778</td>\n",
       "      <td>0</td>\n",
       "    </tr>\n",
       "    <tr>\n",
       "      <td>2</td>\n",
       "      <td>163</td>\n",
       "      <td>0</td>\n",
       "      <td>3</td>\n",
       "      <td>27</td>\n",
       "      <td>0 days 00:00:00.000000000</td>\n",
       "      <td>34.560</td>\n",
       "      <td>919</td>\n",
       "      <td>1353</td>\n",
       "      <td>836</td>\n",
       "      <td>1588</td>\n",
       "      <td>0.377778</td>\n",
       "      <td>0</td>\n",
       "    </tr>\n",
       "    <tr>\n",
       "      <td>3</td>\n",
       "      <td>163</td>\n",
       "      <td>0</td>\n",
       "      <td>4</td>\n",
       "      <td>27</td>\n",
       "      <td>0 days 00:00:00.000000000</td>\n",
       "      <td>34.560</td>\n",
       "      <td>919</td>\n",
       "      <td>1353</td>\n",
       "      <td>836</td>\n",
       "      <td>1588</td>\n",
       "      <td>0.377778</td>\n",
       "      <td>0</td>\n",
       "    </tr>\n",
       "    <tr>\n",
       "      <td>4</td>\n",
       "      <td>163</td>\n",
       "      <td>0</td>\n",
       "      <td>5</td>\n",
       "      <td>23</td>\n",
       "      <td>0 days 00:00:00.000000000</td>\n",
       "      <td>34.560</td>\n",
       "      <td>919</td>\n",
       "      <td>1353</td>\n",
       "      <td>836</td>\n",
       "      <td>1588</td>\n",
       "      <td>0.377778</td>\n",
       "      <td>0</td>\n",
       "    </tr>\n",
       "    <tr>\n",
       "      <td>...</td>\n",
       "      <td>...</td>\n",
       "      <td>...</td>\n",
       "      <td>...</td>\n",
       "      <td>...</td>\n",
       "      <td>...</td>\n",
       "      <td>...</td>\n",
       "      <td>...</td>\n",
       "      <td>...</td>\n",
       "      <td>...</td>\n",
       "      <td>...</td>\n",
       "      <td>...</td>\n",
       "      <td>...</td>\n",
       "    </tr>\n",
       "    <tr>\n",
       "      <td>209222</td>\n",
       "      <td>170</td>\n",
       "      <td>107</td>\n",
       "      <td>169</td>\n",
       "      <td>33</td>\n",
       "      <td>0 days 00:00:02.000000000</td>\n",
       "      <td>42.064</td>\n",
       "      <td>466</td>\n",
       "      <td>401</td>\n",
       "      <td>41</td>\n",
       "      <td>1409</td>\n",
       "      <td>0.432292</td>\n",
       "      <td>0</td>\n",
       "    </tr>\n",
       "    <tr>\n",
       "      <td>209223</td>\n",
       "      <td>170</td>\n",
       "      <td>107</td>\n",
       "      <td>170</td>\n",
       "      <td>25</td>\n",
       "      <td>0 days 00:00:02.000000000</td>\n",
       "      <td>42.064</td>\n",
       "      <td>148</td>\n",
       "      <td>1224</td>\n",
       "      <td>201</td>\n",
       "      <td>4592</td>\n",
       "      <td>0.406061</td>\n",
       "      <td>0</td>\n",
       "    </tr>\n",
       "    <tr>\n",
       "      <td>209224</td>\n",
       "      <td>170</td>\n",
       "      <td>107</td>\n",
       "      <td>170</td>\n",
       "      <td>25</td>\n",
       "      <td>0 days 00:00:02.000000000</td>\n",
       "      <td>42.064</td>\n",
       "      <td>148</td>\n",
       "      <td>1224</td>\n",
       "      <td>201</td>\n",
       "      <td>4592</td>\n",
       "      <td>0.406061</td>\n",
       "      <td>0</td>\n",
       "    </tr>\n",
       "    <tr>\n",
       "      <td>209225</td>\n",
       "      <td>170</td>\n",
       "      <td>107</td>\n",
       "      <td>171</td>\n",
       "      <td>29</td>\n",
       "      <td>0 days 00:00:02.000000000</td>\n",
       "      <td>42.064</td>\n",
       "      <td>1280</td>\n",
       "      <td>8791</td>\n",
       "      <td>3038</td>\n",
       "      <td>3505</td>\n",
       "      <td>0.423913</td>\n",
       "      <td>0</td>\n",
       "    </tr>\n",
       "    <tr>\n",
       "      <td>209226</td>\n",
       "      <td>170</td>\n",
       "      <td>107</td>\n",
       "      <td>171</td>\n",
       "      <td>29</td>\n",
       "      <td>0 days 00:00:02.000000000</td>\n",
       "      <td>42.064</td>\n",
       "      <td>1280</td>\n",
       "      <td>8791</td>\n",
       "      <td>3038</td>\n",
       "      <td>3505</td>\n",
       "      <td>0.423913</td>\n",
       "      <td>0</td>\n",
       "    </tr>\n",
       "  </tbody>\n",
       "</table>\n",
       "<p>209227 rows × 12 columns</p>\n",
       "</div>"
      ],
      "text/plain": [
       "        Distance  StageScore  Rnk  Age                       Time  \\\n",
       "0            163           0    1   29  0 days 04:42:58.000000000   \n",
       "1            163           0    2   26  0 days 00:00:02.000000000   \n",
       "2            163           0    3   27  0 days 00:00:00.000000000   \n",
       "3            163           0    4   27  0 days 00:00:00.000000000   \n",
       "4            163           0    5   23  0 days 00:00:00.000000000   \n",
       "...          ...         ...  ...  ...                        ...   \n",
       "209222       170         107  169   33  0 days 00:00:02.000000000   \n",
       "209223       170         107  170   25  0 days 00:00:02.000000000   \n",
       "209224       170         107  170   25  0 days 00:00:02.000000000   \n",
       "209225       170         107  171   29  0 days 00:00:02.000000000   \n",
       "209226       170         107  171   29  0 days 00:00:02.000000000   \n",
       "\n",
       "        Winnin Avg_speed  R_TT  R_onedayrace  R_climb  R_Sprint     R_fit  Gap  \n",
       "0                 34.560   919          1353      836      1588  0.377778    0  \n",
       "1                 34.560   919          1353      836      1588  0.377778    0  \n",
       "2                 34.560   919          1353      836      1588  0.377778    0  \n",
       "3                 34.560   919          1353      836      1588  0.377778    0  \n",
       "4                 34.560   919          1353      836      1588  0.377778    0  \n",
       "...                  ...   ...           ...      ...       ...       ...  ...  \n",
       "209222            42.064   466           401       41      1409  0.432292    0  \n",
       "209223            42.064   148          1224      201      4592  0.406061    0  \n",
       "209224            42.064   148          1224      201      4592  0.406061    0  \n",
       "209225            42.064  1280          8791     3038      3505  0.423913    0  \n",
       "209226            42.064  1280          8791     3038      3505  0.423913    0  \n",
       "\n",
       "[209227 rows x 12 columns]"
      ]
     },
     "execution_count": 113,
     "metadata": {},
     "output_type": "execute_result"
    }
   ],
   "source": [
    "feat"
   ]
  },
  {
   "cell_type": "code",
   "execution_count": 114,
   "metadata": {},
   "outputs": [],
   "source": [
    "featcorr=feat.corr()"
   ]
  },
  {
   "cell_type": "code",
   "execution_count": 115,
   "metadata": {
    "scrolled": false
   },
   "outputs": [
    {
     "data": {
      "image/png": "[encoded data removed]",
      "text/plain": [
       "<Figure size 1080x720 with 2 Axes>"
      ]
     },
     "metadata": {
      "needs_background": "light"
     },
     "output_type": "display_data"
    }
   ],
   "source": [
    "plt.figure(figsize=(15,10))\n",
    "sns.heatmap(featcorr,cmap='coolwarm', center=0,annot=True, linewidths=3, vmin=-1, vmax=1)\n",
    "# Don't worry about this, work-around for matplotlib issue where top\n",
    "plt.ylim(len(featcorr.columns),-0.5, -0.5)\n",
    "\n",
    "plt.show()"
   ]
  },
  {
   "cell_type": "markdown",
   "metadata": {},
   "source": [
    "This makes sense, we can see that the longer and harder the stage the lower the average speed is. \n",
    "How a good GC rider is also a good climber.\n",
    "However I want to have good features.. and to me it seems that GC(Riders able to get over all victories) is highly correlated to other rider features, so avoid overfitting on that I'm dropping this feature."
   ]
  },
  {
   "cell_type": "code",
   "execution_count": 116,
   "metadata": {},
   "outputs": [],
   "source": [
    "#First we create a matrix of zeroes that we will use like a mask to place over the upper triangle of our heatmap\n",
    "mask = np.zeros_like(featcorr, dtype=np.bool)\n",
    "\n",
    "# np.triu_indices_from returns the upper triangle, which we are setting to True\n",
    "mask[np.triu_indices_from(mask)] = True"
   ]
  },
  {
   "cell_type": "code",
   "execution_count": 117,
   "metadata": {},
   "outputs": [
    {
     "data": {
      "image/png": "[encoded data removed]",
      "text/plain": [
       "<Figure size 720x720 with 1 Axes>"
      ]
     },
     "metadata": {
      "needs_background": "light"
     },
     "output_type": "display_data"
    }
   ],
   "source": [
    "plt.figure(figsize=(10,10))\n",
    "sns.heatmap(featcorr[['Gap']].sort_values(by='Gap'), cbar = False ,cmap='coolwarm', center=0, annot=True, linewidths = 3)\n",
    "plt.ylim(len(featcorr.columns),-0.5, -0.5)\n",
    "plt.show()"
   ]
  },
  {
   "cell_type": "markdown",
   "metadata": {},
   "source": [
    "#### Now it appears that the correlations are not so strong anymore. \n",
    "\n",
    "Time to deal with what I expected to be the worst part of this project, the imbalanced data"
   ]
  },
  {
   "cell_type": "code",
   "execution_count": 118,
   "metadata": {},
   "outputs": [],
   "source": [
    "#Let me check the distribution of outcomes\n",
    "#I already know that this is very imbalanced\n",
    "a=feat[feat['Gap']==1].shape\n",
    "b=feat[feat['Gap']==0].shape"
   ]
  },
  {
   "cell_type": "code",
   "execution_count": 119,
   "metadata": {},
   "outputs": [
    {
     "name": "stdout",
     "output_type": "stream",
     "text": [
      "Qty of Posivite Outcome: 542\n",
      "Qty of Posivite Outcome: 208685\n",
      "Balance ratio = 0.00259721589956154\n"
     ]
    }
   ],
   "source": [
    "print(f'Qty of Posivite Outcome: {a[0]}')\n",
    "print(f'Qty of Posivite Outcome: {b[0]}')\n",
    "print(f'Balance ratio = {a[0]/b[0]}')"
   ]
  },
  {
   "cell_type": "markdown",
   "metadata": {},
   "source": [
    "### So I now need to figure out how to deal with such imbalanced data\n",
    "\n",
    "I first want to check what a Logist regression would look like"
   ]
  },
  {
   "cell_type": "code",
   "execution_count": 120,
   "metadata": {},
   "outputs": [
    {
     "name": "stderr",
     "output_type": "stream",
     "text": [
      "C:\\Users\\renan\\Anaconda3\\lib\\site-packages\\numpy\\core\\fromnumeric.py:2389: FutureWarning: Method .ptp is deprecated and will be removed in a future version. Use numpy.ptp instead.\n",
      "  return ptp(axis=axis, out=out, **kwargs)\n"
     ]
    }
   ],
   "source": [
    "# Define our X and y\n",
    "X = feat.drop(columns=['Gap','Rnk','Time'])\n",
    "y = feat['Gap']\n",
    "\n",
    "# adding the column of ones\n",
    "X_withconstant = sm.add_constant(X)"
   ]
  },
  {
   "cell_type": "code",
   "execution_count": 122,
   "metadata": {},
   "outputs": [],
   "source": [
    "from sklearn.model_selection import train_test_split\n",
    "\n",
    "# Define our X and y\n",
    "X = feat.drop(columns=['Gap','Rnk','Time'])\n",
    "y = feat['Gap']\n",
    "\n",
    "# Create a train/test split  \n",
    "X_train, X_test, y_train, y_test = train_test_split(X, y, test_size = 0.2, random_state=1)"
   ]
  },
  {
   "cell_type": "code",
   "execution_count": 123,
   "metadata": {},
   "outputs": [
    {
     "name": "stdout",
     "output_type": "stream",
     "text": [
      "              precision    recall  f1-score   support\n",
      "\n",
      "           0       1.00      1.00      1.00     41736\n",
      "           1       0.00      0.00      0.00       110\n",
      "\n",
      "    accuracy                           1.00     41846\n",
      "   macro avg       0.50      0.50      0.50     41846\n",
      "weighted avg       0.99      1.00      1.00     41846\n",
      "\n"
     ]
    },
    {
     "name": "stderr",
     "output_type": "stream",
     "text": [
      "C:\\Users\\renan\\Anaconda3\\lib\\site-packages\\sklearn\\metrics\\_classification.py:1272: UndefinedMetricWarning: Precision and F-score are ill-defined and being set to 0.0 in labels with no predicted samples. Use `zero_division` parameter to control this behavior.\n",
      "  _warn_prf(average, modifier, msg_start, len(result))\n"
     ]
    },
    {
     "data": {
      "text/html": [
       "<div>\n",
       "<style scoped>\n",
       "    .dataframe tbody tr th:only-of-type {\n",
       "        vertical-align: middle;\n",
       "    }\n",
       "\n",
       "    .dataframe tbody tr th {\n",
       "        vertical-align: top;\n",
       "    }\n",
       "\n",
       "    .dataframe thead th {\n",
       "        text-align: right;\n",
       "    }\n",
       "</style>\n",
       "<table border=\"1\" class=\"dataframe\">\n",
       "  <thead>\n",
       "    <tr style=\"text-align: right;\">\n",
       "      <th></th>\n",
       "      <th>0</th>\n",
       "    </tr>\n",
       "  </thead>\n",
       "  <tbody>\n",
       "    <tr>\n",
       "      <td>0</td>\n",
       "      <td>0</td>\n",
       "    </tr>\n",
       "    <tr>\n",
       "      <td>1</td>\n",
       "      <td>0</td>\n",
       "    </tr>\n",
       "    <tr>\n",
       "      <td>2</td>\n",
       "      <td>0</td>\n",
       "    </tr>\n",
       "    <tr>\n",
       "      <td>3</td>\n",
       "      <td>0</td>\n",
       "    </tr>\n",
       "    <tr>\n",
       "      <td>4</td>\n",
       "      <td>0</td>\n",
       "    </tr>\n",
       "    <tr>\n",
       "      <td>...</td>\n",
       "      <td>...</td>\n",
       "    </tr>\n",
       "    <tr>\n",
       "      <td>41841</td>\n",
       "      <td>0</td>\n",
       "    </tr>\n",
       "    <tr>\n",
       "      <td>41842</td>\n",
       "      <td>0</td>\n",
       "    </tr>\n",
       "    <tr>\n",
       "      <td>41843</td>\n",
       "      <td>0</td>\n",
       "    </tr>\n",
       "    <tr>\n",
       "      <td>41844</td>\n",
       "      <td>0</td>\n",
       "    </tr>\n",
       "    <tr>\n",
       "      <td>41845</td>\n",
       "      <td>0</td>\n",
       "    </tr>\n",
       "  </tbody>\n",
       "</table>\n",
       "<p>41846 rows × 1 columns</p>\n",
       "</div>"
      ],
      "text/plain": [
       "       0\n",
       "0      0\n",
       "1      0\n",
       "2      0\n",
       "3      0\n",
       "4      0\n",
       "...   ..\n",
       "41841  0\n",
       "41842  0\n",
       "41843  0\n",
       "41844  0\n",
       "41845  0\n",
       "\n",
       "[41846 rows x 1 columns]"
      ]
     },
     "execution_count": 123,
     "metadata": {},
     "output_type": "execute_result"
    }
   ],
   "source": [
    "from sklearn.linear_model import LogisticRegression\n",
    "from sklearn.metrics import confusion_matrix\n",
    "from sklearn.metrics import precision_score\n",
    "from sklearn.metrics import recall_score\n",
    "from sklearn.metrics import f1_score\n",
    "from sklearn.metrics import classification_report\n",
    "\n",
    "# 1. Instantiate and fit model\n",
    "my_logit = LogisticRegression()\n",
    "my_logit.fit (X_train, y_train)\n",
    "\n",
    "#predicttion on trainset\n",
    "my_logit_pred=my_logit.predict(X_test)\n",
    "\n",
    "\n",
    "\n",
    "\n",
    "# 3. Score model\n",
    "\n",
    "print(classification_report(y_test, my_logit_pred))\n",
    "pd.DataFrame(my_logit_pred)\n"
   ]
  },
  {
   "cell_type": "markdown",
   "metadata": {},
   "source": [
    "### With such imbalanced data I expected the score to be this high, can't really trust it. \n",
    "\n",
    "one way to deal with this is to get more class 1 on the trainning data set, to actually teach the model how to read the outcome 1. \n",
    "So I need to put a threshold that pulls more class 1. \n"
   ]
  },
  {
   "cell_type": "code",
   "execution_count": 124,
   "metadata": {},
   "outputs": [],
   "source": [
    "# Just demonstrating the diffence in the data set"
   ]
  },
  {
   "cell_type": "code",
   "execution_count": 125,
   "metadata": {},
   "outputs": [
    {
     "data": {
      "image/png": "[encoded data removed]",
      "text/plain": [
       "<Figure size 432x288 with 1 Axes>"
      ]
     },
     "metadata": {
      "needs_background": "light"
     },
     "output_type": "display_data"
    }
   ],
   "source": [
    "sns.countplot(feat['Gap'])\n",
    "plt.title(\"Bar Plot (Count)\");"
   ]
  },
  {
   "cell_type": "code",
   "execution_count": 126,
   "metadata": {},
   "outputs": [
    {
     "name": "stdout",
     "output_type": "stream",
     "text": [
      "Threshold of 0.5:\n",
      "Precision score: 0.0\n",
      "Recall score: 0.0\n",
      "\n",
      "Threshold of 0.2:\n",
      "Precision score: 0.0196078431372549\n",
      "Recall score: 0.06363636363636363\n"
     ]
    },
    {
     "name": "stderr",
     "output_type": "stream",
     "text": [
      "C:\\Users\\renan\\Anaconda3\\lib\\site-packages\\sklearn\\metrics\\_classification.py:1272: UndefinedMetricWarning: Precision is ill-defined and being set to 0.0 due to no predicted samples. Use `zero_division` parameter to control this behavior.\n",
      "  _warn_prf(average, modifier, msg_start, len(result))\n"
     ]
    }
   ],
   "source": [
    "# Make probabilistic predictions (scores)\n",
    "y_proba = my_logit.predict_proba(X_test)[:,1]\n",
    "\n",
    "\n",
    "\n",
    "# First calculate precision and recall using the default (0.5) cut-off\n",
    "y_threshold = np.where(y_proba > 0.5, 1, 0)\n",
    "print(\"Threshold of 0.5:\")\n",
    "print(f\"Precision score: {precision_score(y_test, y_threshold)}\")\n",
    "print(f\"Recall score: {recall_score(y_test, y_threshold)}\")\n",
    "print(\"\")\n",
    "\n",
    "# Calculate the same using a much lower cut-off (0.02)\n",
    "y_threshold = np.where(y_proba > 0.02, 1, 0)\n",
    "print(\"Threshold of 0.2:\")\n",
    "print(f\"Precision score: {precision_score(y_test, y_threshold)}\")\n",
    "print(f\"Recall score: {recall_score(y_test, y_threshold)}\")"
   ]
  },
  {
   "cell_type": "markdown",
   "metadata": {},
   "source": [
    "### Ok, I guess I made it very clear that the data is too imbalanced to acctually get usefull information from it. \n",
    "#### So let me try a few techniques to deal with it."
   ]
  },
  {
   "cell_type": "markdown",
   "metadata": {},
   "source": [
    "# Technique 1 - SMOTE\n",
    "\n",
    "Smote will basically create synthetic observations of the results that are less common, in this case... winners with a gap.\n",
    "\n",
    "It does so by identifying the  k-nearest-neighbors and randomly choosing one to create similar, but slightly different, observations."
   ]
  },
  {
   "cell_type": "markdown",
   "metadata": {},
   "source": [
    "## SMOTE should always be aplyied after the train,test split. "
   ]
  },
  {
   "cell_type": "code",
   "execution_count": 127,
   "metadata": {},
   "outputs": [],
   "source": [
    "from sklearn.ensemble import RandomForestClassifier\n",
    "from imblearn.over_sampling import SMOTE\n",
    "from sklearn import metrics"
   ]
  },
  {
   "cell_type": "code",
   "execution_count": 128,
   "metadata": {},
   "outputs": [],
   "source": [
    "# I already have my X an y defined, but I canb still play around with the traintest ratio\n",
    "\n",
    "# Define our X and y\n",
    "X = feat.drop(columns=['Gap','Rnk','Time'])\n",
    "y = feat['Gap']\n",
    "\n",
    "\n",
    "X_train, X_test, y_train, y_test = train_test_split(X, y, test_size = 0.2, random_state=1)"
   ]
  },
  {
   "cell_type": "code",
   "execution_count": 129,
   "metadata": {},
   "outputs": [],
   "source": [
    "#The sampling Strategy defines the ratio I'd like to have from the minority class to the majority class\n",
    "# Note that only the Train data is being oversampled\n",
    "sm = SMOTE(sampling_strategy=0.2)\n",
    "x_res, y_res = sm.fit_sample(X_train, y_train)\n"
   ]
  },
  {
   "cell_type": "code",
   "execution_count": 130,
   "metadata": {
    "scrolled": true
   },
   "outputs": [
    {
     "data": {
      "text/plain": [
       "RandomForestClassifier(bootstrap=True, ccp_alpha=0.0, class_weight=None,\n",
       "                       criterion='gini', max_depth=None, max_features='auto',\n",
       "                       max_leaf_nodes=None, max_samples=None,\n",
       "                       min_impurity_decrease=0.0, min_impurity_split=None,\n",
       "                       min_samples_leaf=1, min_samples_split=2,\n",
       "                       min_weight_fraction_leaf=0.0, n_estimators=25,\n",
       "                       n_jobs=None, oob_score=False, random_state=None,\n",
       "                       verbose=0, warm_start=False)"
      ]
     },
     "execution_count": 130,
     "metadata": {},
     "output_type": "execute_result"
    }
   ],
   "source": [
    "#Now lets see what we get from a ramdom forest classifier\n",
    "\n",
    "clf_rf = RandomForestClassifier(n_estimators=25)\n",
    "clf_rf.fit(x_res, y_res)"
   ]
  },
  {
   "cell_type": "code",
   "execution_count": 131,
   "metadata": {},
   "outputs": [],
   "source": [
    "y_pred=clf_rf.predict(X_test)"
   ]
  },
  {
   "cell_type": "code",
   "execution_count": 132,
   "metadata": {},
   "outputs": [
    {
     "name": "stdout",
     "output_type": "stream",
     "text": [
      "Accuracy: 0.9967499880514267\n"
     ]
    }
   ],
   "source": [
    "print(\"Accuracy:\",metrics.accuracy_score(y_test, y_pred))\n",
    "\n",
    "## The high accuracy here really only tells me that I can predict the majority class \"0\" very easily. \n",
    "# I need to check how it's doing on the minority class"
   ]
  },
  {
   "cell_type": "code",
   "execution_count": 133,
   "metadata": {
    "scrolled": true
   },
   "outputs": [
    {
     "name": "stdout",
     "output_type": "stream",
     "text": [
      "Validation Results\n",
      "0.9967499880514267\n",
      "0.34545454545454546\n",
      "\n",
      "Test Results\n",
      "0.9984705606828946\n",
      "0.34545454545454546\n"
     ]
    }
   ],
   "source": [
    "print('Validation Results')\n",
    "print(clf_rf.score(X_test, y_test))\n",
    "print(recall_score(y_test, clf_rf.predict(X_test)))\n",
    "print('\\nTest Results')\n",
    "print(clf_rf.score(X, y))\n",
    "print(recall_score(y_test, clf_rf.predict(X_test)))"
   ]
  },
  {
   "cell_type": "markdown",
   "metadata": {},
   "source": [
    "As seem above the high precision is present just because it's so easy to predict the majority clas, as for the recall, we can see that predicting the positive class \"1\" is not as easy. \n",
    "I will have to deal of the imbalanced data in some way. "
   ]
  },
  {
   "cell_type": "markdown",
   "metadata": {},
   "source": [
    "My train data is still unbalanced. But much less them before, and results on the my y_test improved a lot.\n"
   ]
  },
  {
   "cell_type": "code",
   "execution_count": 134,
   "metadata": {},
   "outputs": [
    {
     "data": {
      "text/plain": [
       "Winnin Avg_speed    0.146714\n",
       "R_Sprint            0.127589\n",
       "R_climb             0.126555\n",
       "Distance            0.121121\n",
       "StageScore          0.107710\n",
       "R_TT                0.102408\n",
       "R_onedayrace        0.095689\n",
       "R_fit               0.087625\n",
       "Age                 0.084588\n",
       "dtype: float64"
      ]
     },
     "execution_count": 134,
     "metadata": {},
     "output_type": "execute_result"
    }
   ],
   "source": [
    "# Find the important features\n",
    "\n",
    "feature_imp = pd.Series(clf_rf.feature_importances_,index=X_train.columns).sort_values(ascending=False)\n",
    "feature_imp"
   ]
  },
  {
   "cell_type": "code",
   "execution_count": 135,
   "metadata": {},
   "outputs": [
    {
     "name": "stderr",
     "output_type": "stream",
     "text": [
      "No handles with labels found to put in legend.\n"
     ]
    },
    {
     "data": {
      "text/plain": [
       "<matplotlib.legend.Legend at 0x1955ebad648>"
      ]
     },
     "execution_count": 135,
     "metadata": {},
     "output_type": "execute_result"
    },
    {
     "data": {
      "image/png": "[encoded data removed]",
      "text/plain": [
       "<Figure size 432x288 with 1 Axes>"
      ]
     },
     "metadata": {
      "needs_background": "light"
     },
     "output_type": "display_data"
    }
   ],
   "source": [
    "%matplotlib inline\n",
    "# Creating a bar plot\n",
    "sns.barplot(x=feature_imp, y=feature_imp.index)\n",
    "# Add labels to your graph\n",
    "plt.xlabel('Feature Importance Score')\n",
    "plt.ylabel('Features')\n",
    "plt.title(\"Feature Importance\")\n",
    "plt.legend()"
   ]
  },
  {
   "cell_type": "markdown",
   "metadata": {},
   "source": [
    "I can see here that the speed is higly correlated, and that is quite expected, riding fast we win races.\n",
    "However I want to predict what other attributes to a race event or rider make it easy to win with a gap over 5 seconds. \n",
    "I will have to drop speed to avoid confusion and add strengh to other features. "
   ]
  },
  {
   "cell_type": "code",
   "execution_count": 136,
   "metadata": {},
   "outputs": [],
   "source": [
    "# I already have my X an y defined, but I canb still play around with the traintest ratio\n",
    "\n",
    "# Define our X and y\n",
    "X = feat.drop(columns=['Gap','Rnk','Time','Winnin Avg_speed'])\n",
    "y = feat['Gap']\n",
    "\n",
    "\n",
    "X_train, X_test, y_train, y_test = train_test_split(X, y, test_size = 0.2, random_state=1)"
   ]
  },
  {
   "cell_type": "markdown",
   "metadata": {},
   "source": [
    "Using the Smote method to upsample my train data minority class to a proportion of 20% of the entire train data, still imbalanced but much less then original data"
   ]
  },
  {
   "cell_type": "code",
   "execution_count": 137,
   "metadata": {},
   "outputs": [],
   "source": [
    "#The sampling Strategy defines the ratio I'd like to have from the minority class to the majority class\n",
    "# Note that only the Train data is being oversampled\n",
    "sm = SMOTE(sampling_strategy=0.2)\n",
    "x_res, y_res = sm.fit_sample(X_train, y_train)\n"
   ]
  },
  {
   "cell_type": "code",
   "execution_count": 138,
   "metadata": {},
   "outputs": [
    {
     "data": {
      "text/plain": [
       "RandomForestClassifier(bootstrap=True, ccp_alpha=0.0, class_weight=None,\n",
       "                       criterion='gini', max_depth=None, max_features='auto',\n",
       "                       max_leaf_nodes=None, max_samples=None,\n",
       "                       min_impurity_decrease=0.0, min_impurity_split=None,\n",
       "                       min_samples_leaf=1, min_samples_split=2,\n",
       "                       min_weight_fraction_leaf=0.0, n_estimators=25,\n",
       "                       n_jobs=None, oob_score=False, random_state=None,\n",
       "                       verbose=0, warm_start=False)"
      ]
     },
     "execution_count": 138,
     "metadata": {},
     "output_type": "execute_result"
    }
   ],
   "source": [
    "#Now lets see what we get from a ramdom forest classifier\n",
    "\n",
    "clf_rf = RandomForestClassifier(n_estimators=25)\n",
    "clf_rf.fit(x_res, y_res)"
   ]
  },
  {
   "cell_type": "code",
   "execution_count": 139,
   "metadata": {},
   "outputs": [],
   "source": [
    "y_pred=clf_rf.predict(X_test)"
   ]
  },
  {
   "cell_type": "code",
   "execution_count": 140,
   "metadata": {},
   "outputs": [
    {
     "name": "stdout",
     "output_type": "stream",
     "text": [
      "Accuracy: 0.9905845242078096\n"
     ]
    }
   ],
   "source": [
    "print(\"Accuracy:\",metrics.accuracy_score(y_test, y_pred))"
   ]
  },
  {
   "cell_type": "code",
   "execution_count": 141,
   "metadata": {
    "scrolled": true
   },
   "outputs": [
    {
     "name": "stdout",
     "output_type": "stream",
     "text": [
      "Validation Results\n",
      "0.9905845242078096\n",
      "0.36363636363636365\n",
      "\n",
      "Test Results\n",
      "0.9936815038212086\n",
      "0.36363636363636365\n"
     ]
    }
   ],
   "source": [
    "print('Validation Results')\n",
    "print(clf_rf.score(X_test, y_test))\n",
    "print(recall_score(y_test, clf_rf.predict(X_test)))\n",
    "print('\\nTest Results')\n",
    "print(clf_rf.score(X, y))\n",
    "print(recall_score(y_test, clf_rf.predict(X_test)))"
   ]
  },
  {
   "cell_type": "markdown",
   "metadata": {},
   "source": [
    "The results fpr recall don't increase all that much"
   ]
  },
  {
   "cell_type": "code",
   "execution_count": 142,
   "metadata": {},
   "outputs": [
    {
     "data": {
      "text/plain": [
       "Distance        0.168538\n",
       "R_Sprint        0.134763\n",
       "StageScore      0.131324\n",
       "R_onedayrace    0.126497\n",
       "R_climb         0.125822\n",
       "R_TT            0.116416\n",
       "Age             0.100464\n",
       "R_fit           0.096175\n",
       "dtype: float64"
      ]
     },
     "execution_count": 142,
     "metadata": {},
     "output_type": "execute_result"
    }
   ],
   "source": [
    "# Find the important features\n",
    "\n",
    "feature_imp = pd.Series(clf_rf.feature_importances_,index=X_train.columns).sort_values(ascending=False)\n",
    "feature_imp"
   ]
  },
  {
   "cell_type": "code",
   "execution_count": 143,
   "metadata": {},
   "outputs": [
    {
     "name": "stderr",
     "output_type": "stream",
     "text": [
      "No handles with labels found to put in legend.\n"
     ]
    },
    {
     "data": {
      "text/plain": [
       "<matplotlib.legend.Legend at 0x19558d3d588>"
      ]
     },
     "execution_count": 143,
     "metadata": {},
     "output_type": "execute_result"
    },
    {
     "data": {
      "image/png": "[encoded data removed]",
      "text/plain": [
       "<Figure size 432x288 with 1 Axes>"
      ]
     },
     "metadata": {
      "needs_background": "light"
     },
     "output_type": "display_data"
    }
   ],
   "source": [
    "%matplotlib inline\n",
    "# Creating a bar plot\n",
    "sns.barplot(x=feature_imp, y=feature_imp.index)\n",
    "# Add labels to your graph\n",
    "plt.xlabel('Feature Importance Score')\n",
    "plt.ylabel('Features')\n",
    "plt.title(\"Feature Importance\")\n",
    "plt.legend()"
   ]
  },
  {
   "cell_type": "markdown",
   "metadata": {},
   "source": [
    "One interesting finding from this step is how the total distance of a stage might benefit the breakaway"
   ]
  },
  {
   "cell_type": "code",
   "execution_count": 144,
   "metadata": {
    "scrolled": true
   },
   "outputs": [],
   "source": [
    "#Now lets see what we get from a ramdom forest classifier\n",
    "estimators=range(1,30)\n",
    "valScore=[]\n",
    "valrecall=[]\n",
    "testScore=[]\n",
    "testrecall=[]\n",
    "accuraccy=[]\n",
    "\n",
    "for i in estimators:\n",
    "    clf_rf = RandomForestClassifier(n_estimators=i)\n",
    "    clf_rf.fit(x_res, y_res)\n",
    "    \n",
    "    y_pred=clf_rf.predict(X_test)\n",
    "\n",
    "   \n",
    "    valScore.append(clf_rf.score(X_test, y_test))\n",
    "    valrecall.append(recall_score(y_test, clf_rf.predict(X_test)))\n",
    "    \n",
    "    testScore.append(clf_rf.score(X, y))\n",
    "    testrecall.append(recall_score(y_test, clf_rf.predict(X_test)))\n",
    "    \n",
    "    accuraccy.append(metrics.accuracy_score(y_test, y_pred))"
   ]
  },
  {
   "cell_type": "code",
   "execution_count": 146,
   "metadata": {
    "scrolled": true
   },
   "outputs": [
    {
     "data": {
      "image/png": "[encoded data removed]",
      "text/plain": [
       "<Figure size 432x288 with 1 Axes>"
      ]
     },
     "metadata": {
      "needs_background": "light"
     },
     "output_type": "display_data"
    }
   ],
   "source": [
    "plt.figure()\n",
    "#plt.plot(testrecall)\n",
    "plt.plot(testScore)\n",
    "plt.show()"
   ]
  },
  {
   "cell_type": "code",
   "execution_count": 147,
   "metadata": {},
   "outputs": [],
   "source": [
    "# I already have my X an y defined, but I canb still play around with the traintest ratio\n",
    "\n",
    "# Define our X and y\n",
    "X = feat.drop(columns=['Gap','Rnk','Time'])\n",
    "y = feat['Gap']\n",
    "\n",
    "\n",
    "X_train, X_test, y_train, y_test = train_test_split(X, y, test_size = 0.1, random_state=1)\n",
    "\n",
    "#The sampling Strategy defines the ratio I'd like to have from the minority class to the majority class\n",
    "# Note that only the Train data is being oversampled\n",
    "sm = SMOTE(sampling_strategy=0.2)\n",
    "X_res, y_res = sm.fit_sample(X_train, y_train)\n"
   ]
  },
  {
   "cell_type": "code",
   "execution_count": 148,
   "metadata": {},
   "outputs": [],
   "source": [
    "from sklearn.preprocessing import LabelBinarizer\n",
    "from sklearn.model_selection import  GridSearchCV, StratifiedKFold\n",
    "from sklearn.metrics import roc_curve, precision_recall_curve, auc, make_scorer, recall_score, accuracy_score, precision_score, confusion_matrix\n",
    "\n",
    "\n"
   ]
  },
  {
   "cell_type": "code",
   "execution_count": 149,
   "metadata": {},
   "outputs": [],
   "source": [
    "clf = RandomForestClassifier(n_jobs=-1)\n",
    "\n",
    "param_grid = {'min_samples_split': [3, 5, 10], 'n_estimators' : [100, 300],'max_depth': [3, 5, 15, 25]}\n",
    "\n",
    "scorers = {'precision_score': make_scorer(precision_score),'recall_score': make_scorer(recall_score),'accuracy_score': make_scorer(accuracy_score)}"
   ]
  },
  {
   "cell_type": "code",
   "execution_count": 150,
   "metadata": {},
   "outputs": [],
   "source": [
    "\n",
    "def grid_search_wrapper(refit_score='precision_score'):\n",
    "    \"\"\"\n",
    "    fits a GridSearchCV classifier using refit_score for optimization\n",
    "    prints classifier performance metrics\n",
    "    \"\"\"\n",
    "    skf = StratifiedKFold(n_splits=10)\n",
    "    grid_search = GridSearchCV(clf, param_grid, scoring=scorers, refit=refit_score,\n",
    "                           cv=skf, return_train_score=True, n_jobs=-1)\n",
    "    grid_search.fit(X_res.values, y_res.values)\n",
    "\n",
    "    # make the predictions\n",
    "    y_pred = grid_search.predict(X_test.values)\n",
    "\n",
    "    print('Best params for {}'.format(refit_score))\n",
    "    print(grid_search.best_params_)\n",
    "\n",
    "    # confusion matrix on the test data.\n",
    "    print('\\nConfusion matrix of Random Forest optimized for {} on the test data:'.format(refit_score))\n",
    "    print(pd.DataFrame(confusion_matrix(y_test, y_pred),\n",
    "                 columns=['pred_neg', 'pred_pos'], index=['neg', 'pos']))\n",
    "    return grid_search"
   ]
  },
  {
   "cell_type": "code",
   "execution_count": 152,
   "metadata": {},
   "outputs": [
    {
     "name": "stdout",
     "output_type": "stream",
     "text": [
      "Best params for precision_score\n",
      "{'max_depth': 25, 'min_samples_split': 5, 'n_estimators': 300}\n",
      "\n",
      "Confusion matrix of Random Forest optimized for precision_score on the test data:\n",
      "     pred_neg  pred_pos\n",
      "neg     20845        28\n",
      "pos        32        18\n"
     ]
    }
   ],
   "source": [
    "############-Don't run this.. takes forever-#############################\n",
    "\n",
    "##########-Whitout Speed-###################\n",
    "\n",
    "#grid_search_clf = grid_search_wrapper(refit_score='precision_score')"
   ]
  },
  {
   "cell_type": "markdown",
   "metadata": {},
   "source": [
    "### Despite acctually predicting the minority class with some accuracy, this an extremely expensive model to run. "
   ]
  },
  {
   "cell_type": "markdown",
   "metadata": {},
   "source": [
    "This still pretty low, so I'll try a diffent technique, let's undersample the dominant class... or cut some 0s out of this\n"
   ]
  },
  {
   "cell_type": "markdown",
   "metadata": {},
   "source": [
    "#### So it seems that my main issue here is the lack of features.. maybe I can colect nome more"
   ]
  },
  {
   "cell_type": "code",
   "execution_count": 178,
   "metadata": {},
   "outputs": [
    {
     "name": "stderr",
     "output_type": "stream",
     "text": [
      "C:\\Users\\renan\\Anaconda3\\lib\\site-packages\\IPython\\core\\interactiveshell.py:3058: DtypeWarning: Columns (2,5) have mixed types. Specify dtype option on import or set low_memory=False.\n",
      "  interactivity=interactivity, compiler=compiler, result=result)\n"
     ]
    }
   ],
   "source": [
    "feat2=pd.read_csv('data/TDF_modeltf')"
   ]
  },
  {
   "cell_type": "code",
   "execution_count": 179,
   "metadata": {},
   "outputs": [
    {
     "data": {
      "text/html": [
       "<div>\n",
       "<style scoped>\n",
       "    .dataframe tbody tr th:only-of-type {\n",
       "        vertical-align: middle;\n",
       "    }\n",
       "\n",
       "    .dataframe tbody tr th {\n",
       "        vertical-align: top;\n",
       "    }\n",
       "\n",
       "    .dataframe thead th {\n",
       "        text-align: right;\n",
       "    }\n",
       "</style>\n",
       "<table border=\"1\" class=\"dataframe\">\n",
       "  <thead>\n",
       "    <tr style=\"text-align: right;\">\n",
       "      <th></th>\n",
       "      <th>Unnamed: 0</th>\n",
       "      <th>Year</th>\n",
       "      <th>Stage</th>\n",
       "      <th>Distance</th>\n",
       "      <th>StageScore</th>\n",
       "      <th>Rnk</th>\n",
       "      <th>Rider</th>\n",
       "      <th>Age</th>\n",
       "      <th>Team</th>\n",
       "      <th>Time</th>\n",
       "      <th>Winnin Avg_speed</th>\n",
       "      <th>R_TT</th>\n",
       "      <th>R_onedayrace</th>\n",
       "      <th>R_climb</th>\n",
       "      <th>R_Sprint</th>\n",
       "      <th>R_GC</th>\n",
       "      <th>R_height</th>\n",
       "      <th>R_weight</th>\n",
       "      <th>Winner</th>\n",
       "      <th>Gap</th>\n",
       "    </tr>\n",
       "  </thead>\n",
       "  <tbody>\n",
       "    <tr>\n",
       "      <td>0</td>\n",
       "      <td>0</td>\n",
       "      <td>1980</td>\n",
       "      <td>10</td>\n",
       "      <td>163</td>\n",
       "      <td>0</td>\n",
       "      <td>1</td>\n",
       "      <td>Priem CeesTI Raleigh - Creda</td>\n",
       "      <td>29</td>\n",
       "      <td>TI Raleigh - Creda</td>\n",
       "      <td>0 days 04:42:58.000000000</td>\n",
       "      <td>34.560</td>\n",
       "      <td>919</td>\n",
       "      <td>1353</td>\n",
       "      <td>836</td>\n",
       "      <td>1588</td>\n",
       "      <td>1646</td>\n",
       "      <td>180</td>\n",
       "      <td>68</td>\n",
       "      <td>1</td>\n",
       "      <td>0</td>\n",
       "    </tr>\n",
       "    <tr>\n",
       "      <td>1</td>\n",
       "      <td>1</td>\n",
       "      <td>1980</td>\n",
       "      <td>10</td>\n",
       "      <td>163</td>\n",
       "      <td>0</td>\n",
       "      <td>2</td>\n",
       "      <td>Osmont JacquesBoston - IFI - Mavic</td>\n",
       "      <td>26</td>\n",
       "      <td>Boston - IFI - Mavic</td>\n",
       "      <td>0 days 00:00:02.000000000</td>\n",
       "      <td>34.560</td>\n",
       "      <td>919</td>\n",
       "      <td>1353</td>\n",
       "      <td>836</td>\n",
       "      <td>1588</td>\n",
       "      <td>1646</td>\n",
       "      <td>180</td>\n",
       "      <td>68</td>\n",
       "      <td>0</td>\n",
       "      <td>0</td>\n",
       "    </tr>\n",
       "    <tr>\n",
       "      <td>2</td>\n",
       "      <td>2</td>\n",
       "      <td>1980</td>\n",
       "      <td>10</td>\n",
       "      <td>163</td>\n",
       "      <td>0</td>\n",
       "      <td>3</td>\n",
       "      <td>Bertin YvonRenault - Gitane - Campagnolo</td>\n",
       "      <td>27</td>\n",
       "      <td>Renault - Gitane - Campagnolo</td>\n",
       "      <td>0 days 00:00:00.000000000</td>\n",
       "      <td>34.560</td>\n",
       "      <td>919</td>\n",
       "      <td>1353</td>\n",
       "      <td>836</td>\n",
       "      <td>1588</td>\n",
       "      <td>1646</td>\n",
       "      <td>180</td>\n",
       "      <td>68</td>\n",
       "      <td>0</td>\n",
       "      <td>0</td>\n",
       "    </tr>\n",
       "    <tr>\n",
       "      <td>3</td>\n",
       "      <td>3</td>\n",
       "      <td>1980</td>\n",
       "      <td>10</td>\n",
       "      <td>163</td>\n",
       "      <td>0</td>\n",
       "      <td>4</td>\n",
       "      <td>Raas JanTI Raleigh - Creda</td>\n",
       "      <td>27</td>\n",
       "      <td>TI Raleigh - Creda</td>\n",
       "      <td>0 days 00:00:00.000000000</td>\n",
       "      <td>34.560</td>\n",
       "      <td>919</td>\n",
       "      <td>1353</td>\n",
       "      <td>836</td>\n",
       "      <td>1588</td>\n",
       "      <td>1646</td>\n",
       "      <td>180</td>\n",
       "      <td>68</td>\n",
       "      <td>0</td>\n",
       "      <td>0</td>\n",
       "    </tr>\n",
       "    <tr>\n",
       "      <td>4</td>\n",
       "      <td>4</td>\n",
       "      <td>1980</td>\n",
       "      <td>10</td>\n",
       "      <td>163</td>\n",
       "      <td>0</td>\n",
       "      <td>5</td>\n",
       "      <td>Tackaert WilliamDaf Trucks - Lejeune - PZ</td>\n",
       "      <td>23</td>\n",
       "      <td>Daf Trucks - Lejeune - PZ</td>\n",
       "      <td>0 days 00:00:00.000000000</td>\n",
       "      <td>34.560</td>\n",
       "      <td>919</td>\n",
       "      <td>1353</td>\n",
       "      <td>836</td>\n",
       "      <td>1588</td>\n",
       "      <td>1646</td>\n",
       "      <td>180</td>\n",
       "      <td>68</td>\n",
       "      <td>0</td>\n",
       "      <td>0</td>\n",
       "    </tr>\n",
       "    <tr>\n",
       "      <td>...</td>\n",
       "      <td>...</td>\n",
       "      <td>...</td>\n",
       "      <td>...</td>\n",
       "      <td>...</td>\n",
       "      <td>...</td>\n",
       "      <td>...</td>\n",
       "      <td>...</td>\n",
       "      <td>...</td>\n",
       "      <td>...</td>\n",
       "      <td>...</td>\n",
       "      <td>...</td>\n",
       "      <td>...</td>\n",
       "      <td>...</td>\n",
       "      <td>...</td>\n",
       "      <td>...</td>\n",
       "      <td>...</td>\n",
       "      <td>...</td>\n",
       "      <td>...</td>\n",
       "      <td>...</td>\n",
       "      <td>...</td>\n",
       "    </tr>\n",
       "    <tr>\n",
       "      <td>209222</td>\n",
       "      <td>209222</td>\n",
       "      <td>2019</td>\n",
       "      <td>9</td>\n",
       "      <td>170</td>\n",
       "      <td>107</td>\n",
       "      <td>169</td>\n",
       "      <td>Roger-Kluge</td>\n",
       "      <td>33</td>\n",
       "      <td>Lotto Soudal</td>\n",
       "      <td>0 days 00:00:02.000000000</td>\n",
       "      <td>42.064</td>\n",
       "      <td>466</td>\n",
       "      <td>401</td>\n",
       "      <td>41</td>\n",
       "      <td>1409</td>\n",
       "      <td>351</td>\n",
       "      <td>192</td>\n",
       "      <td>83</td>\n",
       "      <td>0</td>\n",
       "      <td>0</td>\n",
       "    </tr>\n",
       "    <tr>\n",
       "      <td>209223</td>\n",
       "      <td>209223</td>\n",
       "      <td>2019</td>\n",
       "      <td>9</td>\n",
       "      <td>170</td>\n",
       "      <td>107</td>\n",
       "      <td>170</td>\n",
       "      <td>Caleb-Ewan</td>\n",
       "      <td>25</td>\n",
       "      <td>Lotto Soudal</td>\n",
       "      <td>0 days 00:00:02.000000000</td>\n",
       "      <td>42.064</td>\n",
       "      <td>148</td>\n",
       "      <td>1224</td>\n",
       "      <td>201</td>\n",
       "      <td>4592</td>\n",
       "      <td>201</td>\n",
       "      <td>165</td>\n",
       "      <td>67</td>\n",
       "      <td>0</td>\n",
       "      <td>0</td>\n",
       "    </tr>\n",
       "    <tr>\n",
       "      <td>209224</td>\n",
       "      <td>209224</td>\n",
       "      <td>2019</td>\n",
       "      <td>9</td>\n",
       "      <td>170</td>\n",
       "      <td>107</td>\n",
       "      <td>170</td>\n",
       "      <td>Caleb-Ewan</td>\n",
       "      <td>25</td>\n",
       "      <td>Lotto Soudal</td>\n",
       "      <td>0 days 00:00:02.000000000</td>\n",
       "      <td>42.064</td>\n",
       "      <td>148</td>\n",
       "      <td>1224</td>\n",
       "      <td>201</td>\n",
       "      <td>4592</td>\n",
       "      <td>201</td>\n",
       "      <td>165</td>\n",
       "      <td>67</td>\n",
       "      <td>0</td>\n",
       "      <td>0</td>\n",
       "    </tr>\n",
       "    <tr>\n",
       "      <td>209225</td>\n",
       "      <td>209225</td>\n",
       "      <td>2019</td>\n",
       "      <td>9</td>\n",
       "      <td>170</td>\n",
       "      <td>107</td>\n",
       "      <td>171</td>\n",
       "      <td>Peter-Sagan</td>\n",
       "      <td>29</td>\n",
       "      <td>BORA - hansgrohe</td>\n",
       "      <td>0 days 00:00:02.000000000</td>\n",
       "      <td>42.064</td>\n",
       "      <td>1280</td>\n",
       "      <td>8791</td>\n",
       "      <td>3038</td>\n",
       "      <td>3505</td>\n",
       "      <td>1496</td>\n",
       "      <td>184</td>\n",
       "      <td>78</td>\n",
       "      <td>0</td>\n",
       "      <td>0</td>\n",
       "    </tr>\n",
       "    <tr>\n",
       "      <td>209226</td>\n",
       "      <td>209226</td>\n",
       "      <td>2019</td>\n",
       "      <td>9</td>\n",
       "      <td>170</td>\n",
       "      <td>107</td>\n",
       "      <td>171</td>\n",
       "      <td>Peter-Sagan</td>\n",
       "      <td>29</td>\n",
       "      <td>BORA - hansgrohe</td>\n",
       "      <td>0 days 00:00:02.000000000</td>\n",
       "      <td>42.064</td>\n",
       "      <td>1280</td>\n",
       "      <td>8791</td>\n",
       "      <td>3038</td>\n",
       "      <td>3505</td>\n",
       "      <td>1496</td>\n",
       "      <td>184</td>\n",
       "      <td>78</td>\n",
       "      <td>0</td>\n",
       "      <td>0</td>\n",
       "    </tr>\n",
       "  </tbody>\n",
       "</table>\n",
       "<p>209227 rows × 20 columns</p>\n",
       "</div>"
      ],
      "text/plain": [
       "        Unnamed: 0  Year Stage  Distance  StageScore  Rnk  \\\n",
       "0                0  1980    10       163           0    1   \n",
       "1                1  1980    10       163           0    2   \n",
       "2                2  1980    10       163           0    3   \n",
       "3                3  1980    10       163           0    4   \n",
       "4                4  1980    10       163           0    5   \n",
       "...            ...   ...   ...       ...         ...  ...   \n",
       "209222      209222  2019     9       170         107  169   \n",
       "209223      209223  2019     9       170         107  170   \n",
       "209224      209224  2019     9       170         107  170   \n",
       "209225      209225  2019     9       170         107  171   \n",
       "209226      209226  2019     9       170         107  171   \n",
       "\n",
       "                                            Rider  Age  \\\n",
       "0                    Priem CeesTI Raleigh - Creda   29   \n",
       "1              Osmont JacquesBoston - IFI - Mavic   26   \n",
       "2        Bertin YvonRenault - Gitane - Campagnolo   27   \n",
       "3                      Raas JanTI Raleigh - Creda   27   \n",
       "4       Tackaert WilliamDaf Trucks - Lejeune - PZ   23   \n",
       "...                                           ...  ...   \n",
       "209222                                Roger-Kluge   33   \n",
       "209223                                 Caleb-Ewan   25   \n",
       "209224                                 Caleb-Ewan   25   \n",
       "209225                                Peter-Sagan   29   \n",
       "209226                                Peter-Sagan   29   \n",
       "\n",
       "                                 Team                       Time  \\\n",
       "0                  TI Raleigh - Creda  0 days 04:42:58.000000000   \n",
       "1                Boston - IFI - Mavic  0 days 00:00:02.000000000   \n",
       "2       Renault - Gitane - Campagnolo  0 days 00:00:00.000000000   \n",
       "3                  TI Raleigh - Creda  0 days 00:00:00.000000000   \n",
       "4           Daf Trucks - Lejeune - PZ  0 days 00:00:00.000000000   \n",
       "...                               ...                        ...   \n",
       "209222                   Lotto Soudal  0 days 00:00:02.000000000   \n",
       "209223                   Lotto Soudal  0 days 00:00:02.000000000   \n",
       "209224                   Lotto Soudal  0 days 00:00:02.000000000   \n",
       "209225               BORA - hansgrohe  0 days 00:00:02.000000000   \n",
       "209226               BORA - hansgrohe  0 days 00:00:02.000000000   \n",
       "\n",
       "        Winnin Avg_speed  R_TT  R_onedayrace  R_climb  R_Sprint  R_GC  \\\n",
       "0                 34.560   919          1353      836      1588  1646   \n",
       "1                 34.560   919          1353      836      1588  1646   \n",
       "2                 34.560   919          1353      836      1588  1646   \n",
       "3                 34.560   919          1353      836      1588  1646   \n",
       "4                 34.560   919          1353      836      1588  1646   \n",
       "...                  ...   ...           ...      ...       ...   ...   \n",
       "209222            42.064   466           401       41      1409   351   \n",
       "209223            42.064   148          1224      201      4592   201   \n",
       "209224            42.064   148          1224      201      4592   201   \n",
       "209225            42.064  1280          8791     3038      3505  1496   \n",
       "209226            42.064  1280          8791     3038      3505  1496   \n",
       "\n",
       "        R_height  R_weight  Winner  Gap  \n",
       "0            180        68       1    0  \n",
       "1            180        68       0    0  \n",
       "2            180        68       0    0  \n",
       "3            180        68       0    0  \n",
       "4            180        68       0    0  \n",
       "...          ...       ...     ...  ...  \n",
       "209222       192        83       0    0  \n",
       "209223       165        67       0    0  \n",
       "209224       165        67       0    0  \n",
       "209225       184        78       0    0  \n",
       "209226       184        78       0    0  \n",
       "\n",
       "[209227 rows x 20 columns]"
      ]
     },
     "execution_count": 179,
     "metadata": {},
     "output_type": "execute_result"
    }
   ],
   "source": [
    "feat2"
   ]
  },
  {
   "cell_type": "markdown",
   "metadata": {},
   "source": [
    "### The data set is just too hard to predict on I need more features\n",
    "\n",
    "Let's test a smallet data set with less features\n"
   ]
  },
  {
   "cell_type": "code",
   "execution_count": 182,
   "metadata": {},
   "outputs": [],
   "source": [
    "data2=pd.read_csv('data/TDF2.csv')"
   ]
  },
  {
   "cell_type": "code",
   "execution_count": 209,
   "metadata": {},
   "outputs": [],
   "source": [
    "# I already have my X an y defined, but I canb still play around with the traintest ratio\n",
    "\n",
    "# Define our X and y\n",
    "X = data2.drop(columns=['Gap','Rnk','Time','Winnin Avg_speed','Rider','Team'])\n",
    "y = data2['Gap']\n",
    "\n",
    "\n",
    "X_train, X_test, y_train, y_test = train_test_split(X, y, test_size = 0.2, random_state=1)\n"
   ]
  },
  {
   "cell_type": "code",
   "execution_count": 214,
   "metadata": {},
   "outputs": [
    {
     "data": {
      "text/plain": [
       "RandomForestClassifier(bootstrap=True, ccp_alpha=0.0, class_weight=None,\n",
       "                       criterion='gini', max_depth=None, max_features='auto',\n",
       "                       max_leaf_nodes=None, max_samples=None,\n",
       "                       min_impurity_decrease=0.0, min_impurity_split=None,\n",
       "                       min_samples_leaf=1, min_samples_split=2,\n",
       "                       min_weight_fraction_leaf=0.0, n_estimators=100,\n",
       "                       n_jobs=None, oob_score=False, random_state=None,\n",
       "                       verbose=0, warm_start=False)"
      ]
     },
     "execution_count": 214,
     "metadata": {},
     "output_type": "execute_result"
    }
   ],
   "source": [
    "#Now lets see what we get from a ramdom forest classifier\n",
    "\n",
    "clf_rf = RandomForestClassifier(n_estimators=100)\n",
    "clf_rf.fit(X_train, y_train)"
   ]
  },
  {
   "cell_type": "code",
   "execution_count": 215,
   "metadata": {
    "scrolled": true
   },
   "outputs": [
    {
     "name": "stdout",
     "output_type": "stream",
     "text": [
      "Validation Results\n",
      "0.9965034965034965\n",
      "0.5\n",
      "\n",
      "Test Results\n",
      "0.9992997198879552\n",
      "0.5\n"
     ]
    }
   ],
   "source": [
    "print('Validation Results')\n",
    "print(clf_rf.score(X_test, y_test))\n",
    "print(recall_score(y_test, clf_rf.predict(X_test)))\n",
    "print('\\nTest Results')\n",
    "print(clf_rf.score(X, y))\n",
    "print(recall_score(y_test, clf_rf.predict(X_test)))"
   ]
  },
  {
   "cell_type": "markdown",
   "metadata": {},
   "source": [
    "### Let's add some virtual data points to test if the score would improve. \n"
   ]
  },
  {
   "cell_type": "code",
   "execution_count": 105,
   "metadata": {},
   "outputs": [],
   "source": [
    "data3=pd.read_csv('TDF Virtual Data.csv')\n"
   ]
  },
  {
   "cell_type": "code",
   "execution_count": 399,
   "metadata": {},
   "outputs": [
    {
     "data": {
      "text/plain": [
       "Index(['index', 'Year', 'Stage', 'Distance', 'StageScore', 'Rnk', 'Rider',\n",
       "       'Age', 'Team', 'Time', 'Winnin Avg_speed', 'R_TT', 'R_onedayrace',\n",
       "       'R_climb', 'R_Sprint', 'R_GC', 'R_height', 'R_weight', 'Winner', 'Gap',\n",
       "       'Break 50km', '50k gap sec', '50k Riders#', 'Break 40km', '40k gap sec',\n",
       "       '40km Rider#', 'Break 30km', '30k gap sec', '30km rider # ',\n",
       "       'Break 20km', '20k gap sec', '20km rider #', 'Break 10km',\n",
       "       '10k gap sec', '10km Rider#', 'Break 5km', '5k gap sec', '5km rider#',\n",
       "       'Break 3km', '3k gap sec', '3km Rider#', 'Break 2km', '2k gap sec',\n",
       "       '2km Rider#', 'Break 1km', '1k gap sec', '1km rider #'],\n",
       "      dtype='object')"
      ]
     },
     "execution_count": 399,
     "metadata": {},
     "output_type": "execute_result"
    }
   ],
   "source": [
    "data3.columns"
   ]
  },
  {
   "cell_type": "code",
   "execution_count": 400,
   "metadata": {},
   "outputs": [],
   "source": [
    "data2=data3.append(data3)"
   ]
  },
  {
   "cell_type": "code",
   "execution_count": 401,
   "metadata": {},
   "outputs": [],
   "source": [
    "data2=data2.append(data3)"
   ]
  },
  {
   "cell_type": "code",
   "execution_count": 413,
   "metadata": {},
   "outputs": [
    {
     "data": {
      "text/plain": [
       "0    4269\n",
       "1      15\n",
       "Name: Gap, dtype: int64"
      ]
     },
     "execution_count": 413,
     "metadata": {},
     "output_type": "execute_result"
    }
   ],
   "source": [
    "data2['Gap'].value_counts()"
   ]
  },
  {
   "cell_type": "code",
   "execution_count": 414,
   "metadata": {},
   "outputs": [
    {
     "data": {
      "image/png": "[encoded data removed]",
      "text/plain": [
       "<Figure size 432x288 with 1 Axes>"
      ]
     },
     "metadata": {
      "needs_background": "light"
     },
     "output_type": "display_data"
    }
   ],
   "source": [
    "sns.countplot(data2['Gap'])\n",
    "plt.title(\"Bar Plot (Count)\");"
   ]
  },
  {
   "cell_type": "code",
   "execution_count": 415,
   "metadata": {},
   "outputs": [
    {
     "data": {
      "text/plain": [
       "Index(['index', 'Year', 'Stage', 'Distance', 'StageScore', 'Rnk', 'Rider',\n",
       "       'Age', 'Team', 'Time', 'Winnin Avg_speed', 'R_TT', 'R_onedayrace',\n",
       "       'R_climb', 'R_Sprint', 'R_GC', 'R_height', 'R_weight', 'Winner', 'Gap',\n",
       "       'Break 50km', '50k gap sec', '50k Riders#', 'Break 40km', '40k gap sec',\n",
       "       '40km Rider#', 'Break 30km', '30k gap sec', '30km rider # ',\n",
       "       'Break 20km', '20k gap sec', '20km rider #', 'Break 10km',\n",
       "       '10k gap sec', '10km Rider#', 'Break 5km', '5k gap sec', '5km rider#',\n",
       "       'Break 3km', '3k gap sec', '3km Rider#', 'Break 2km', '2k gap sec',\n",
       "       '2km Rider#', 'Break 1km', '1k gap sec', '1km rider #'],\n",
       "      dtype='object')"
      ]
     },
     "execution_count": 415,
     "metadata": {},
     "output_type": "execute_result"
    }
   ],
   "source": [
    "data2.columns"
   ]
  },
  {
   "cell_type": "code",
   "execution_count": 416,
   "metadata": {
    "scrolled": true
   },
   "outputs": [
    {
     "data": {
      "text/plain": [
       "index               0\n",
       "Year                0\n",
       "Stage               0\n",
       "Distance            0\n",
       "StageScore          0\n",
       "Rnk                 0\n",
       "Rider               0\n",
       "Age                 0\n",
       "Team                0\n",
       "Time                0\n",
       "Winnin Avg_speed    0\n",
       "R_TT                0\n",
       "R_onedayrace        0\n",
       "R_climb             0\n",
       "R_Sprint            0\n",
       "R_GC                0\n",
       "R_height            0\n",
       "R_weight            0\n",
       "Winner              0\n",
       "Gap                 0\n",
       "Break 50km          0\n",
       "50k gap sec         0\n",
       "50k Riders#         0\n",
       "Break 40km          0\n",
       "40k gap sec         0\n",
       "40km Rider#         0\n",
       "Break 30km          0\n",
       "30k gap sec         0\n",
       "30km rider #        0\n",
       "Break 20km          0\n",
       "20k gap sec         0\n",
       "20km rider #        0\n",
       "Break 10km          0\n",
       "10k gap sec         0\n",
       "10km Rider#         0\n",
       "Break 5km           0\n",
       "5k gap sec          0\n",
       "5km rider#          0\n",
       "Break 3km           0\n",
       "3k gap sec          0\n",
       "3km Rider#          0\n",
       "Break 2km           0\n",
       "2k gap sec          0\n",
       "2km Rider#          0\n",
       "Break 1km           0\n",
       "1k gap sec          0\n",
       "1km rider #         0\n",
       "dtype: int64"
      ]
     },
     "execution_count": 416,
     "metadata": {},
     "output_type": "execute_result"
    }
   ],
   "source": [
    "data2.isnull().sum()"
   ]
  },
  {
   "cell_type": "code",
   "execution_count": 433,
   "metadata": {},
   "outputs": [],
   "source": [
    "\n",
    "# Define our X and y\n",
    "X = data2.drop(columns=['Gap','Rnk','Time','Winnin Avg_speed','Rider','Team','Winner','index','Year','Stage','R_weight','R_height'])\n",
    "y = data2['Gap']\n",
    "\n",
    "\n",
    "X_train, X_test, y_train, y_test = train_test_split(X, y, test_size = 0.25, random_state=1)\n",
    "\n",
    "#The sampling Strategy defines the ratio I'd like to have from the minority class to the majority class\n",
    "# Note that only the Train data is being oversampled\n",
    "sm = SMOTE(sampling_strategy=0.5)\n",
    "X_res, y_res = sm.fit_sample(X_train, y_train)\n"
   ]
  },
  {
   "cell_type": "code",
   "execution_count": 434,
   "metadata": {
    "scrolled": false
   },
   "outputs": [
    {
     "data": {
      "text/plain": [
       "RandomForestClassifier(bootstrap=True, ccp_alpha=0.0, class_weight=None,\n",
       "                       criterion='gini', max_depth=None, max_features='auto',\n",
       "                       max_leaf_nodes=None, max_samples=None,\n",
       "                       min_impurity_decrease=0.0, min_impurity_split=None,\n",
       "                       min_samples_leaf=1, min_samples_split=2,\n",
       "                       min_weight_fraction_leaf=0.0, n_estimators=25,\n",
       "                       n_jobs=None, oob_score=False, random_state=None,\n",
       "                       verbose=0, warm_start=False)"
      ]
     },
     "execution_count": 434,
     "metadata": {},
     "output_type": "execute_result"
    }
   ],
   "source": [
    "#Now lets see what we get from a ramdom forest classifier\n",
    "\n",
    "clf_rf = RandomForestClassifier(n_estimators=25)\n",
    "clf_rf.fit(X_res, y_res)"
   ]
  },
  {
   "cell_type": "markdown",
   "metadata": {},
   "source": [
    "### I defined a grid search function to quickly be able to run models and print the main evaluators."
   ]
  },
  {
   "cell_type": "code",
   "execution_count": 17,
   "metadata": {},
   "outputs": [],
   "source": [
    "\n",
    "def grid_search_wrapper(refit_score='precision_score'):\n",
    "    \"\"\"\n",
    "    fits a GridSearchCV classifier using refit_score for optimization\n",
    "    prints classifier performance metrics\n",
    "    \"\"\"\n",
    "    skf = StratifiedKFold(n_splits=10)\n",
    "    grid_search = GridSearchCV(clf, param_grid, scoring=scorers, refit=refit_score,\n",
    "                           cv=skf, return_train_score=True, n_jobs=-1)\n",
    "    grid_search.fit(X_res.values, y_res.values)\n",
    "\n",
    "    # make the predictions\n",
    "    y_pred = grid_search.predict(X_test.values)\n",
    "\n",
    "    print('Best params for {}'.format(refit_score))\n",
    "    print(grid_search.best_params_)\n",
    "\n",
    "    # confusion matrix on the test data.\n",
    "    print('\\nConfusion matrix of Random Forest optimized for {} on the test data:'.format(refit_score))\n",
    "    print(pd.DataFrame(confusion_matrix(y_test, y_pred),\n",
    "                 columns=['pred_neg', 'pred_pos'], index=['neg', 'pos']))\n",
    "    return grid_search"
   ]
  },
  {
   "cell_type": "code",
   "execution_count": 436,
   "metadata": {
    "scrolled": true
   },
   "outputs": [
    {
     "name": "stdout",
     "output_type": "stream",
     "text": [
      "Best params for precision_score\n",
      "{'max_depth': 15, 'min_samples_split': 3, 'n_estimators': 100}\n",
      "\n",
      "Confusion matrix of Random Forest optimized for precision_score on the test data:\n",
      "     pred_neg  pred_pos\n",
      "neg      1062         3\n",
      "pos         0         6\n"
     ]
    }
   ],
   "source": [
    "########### - With Speed - ####################\n",
    "\n",
    "# Now I'm runiing the SVM using the speed feature, maybe it will help\n",
    "\n",
    "grid_search_clf = grid_search_wrapper(refit_score='precision_score')"
   ]
  },
  {
   "cell_type": "code",
   "execution_count": 422,
   "metadata": {},
   "outputs": [
    {
     "data": {
      "text/plain": [
       "35"
      ]
     },
     "execution_count": 422,
     "metadata": {},
     "output_type": "execute_result"
    }
   ],
   "source": [
    "len(X_res.columns)"
   ]
  },
  {
   "cell_type": "code",
   "execution_count": 423,
   "metadata": {},
   "outputs": [
    {
     "data": {
      "text/plain": [
       "R_Sprint         0.165620\n",
       "R_TT             0.096298\n",
       "R_onedayrace     0.064496\n",
       "R_GC             0.055499\n",
       "R_climb          0.048957\n",
       "Age              0.047950\n",
       "40km Rider#      0.043133\n",
       "3k gap sec       0.042496\n",
       "20k gap sec      0.041986\n",
       "2km Rider#       0.040461\n",
       "30km rider #     0.035748\n",
       "30k gap sec      0.033813\n",
       "10km Rider#      0.033114\n",
       "50k gap sec      0.030836\n",
       "StageScore       0.030684\n",
       "40k gap sec      0.027853\n",
       "20km rider #     0.027723\n",
       "10k gap sec      0.026458\n",
       "Distance         0.018690\n",
       "5k gap sec       0.017366\n",
       "3km Rider#       0.016474\n",
       "2k gap sec       0.013497\n",
       "5km rider#       0.013240\n",
       "50k Riders#      0.010770\n",
       "1km rider #      0.006956\n",
       "1k gap sec       0.004707\n",
       "Break 5km        0.001735\n",
       "Break 2km        0.001733\n",
       "Break 50km       0.001561\n",
       "Break 3km        0.000144\n",
       "Break 40km       0.000000\n",
       "Break 30km       0.000000\n",
       "Break 10km       0.000000\n",
       "Break 1km        0.000000\n",
       "Break 20km       0.000000\n",
       "dtype: float64"
      ]
     },
     "execution_count": 423,
     "metadata": {},
     "output_type": "execute_result"
    }
   ],
   "source": [
    "# Find the important features\n",
    "\n",
    "feature_imp = pd.Series(clf_rf.feature_importances_,index=X_res.columns).sort_values(ascending=False)\n",
    "feature_imp"
   ]
  },
  {
   "cell_type": "code",
   "execution_count": 424,
   "metadata": {},
   "outputs": [
    {
     "name": "stderr",
     "output_type": "stream",
     "text": [
      "No handles with labels found to put in legend.\n"
     ]
    },
    {
     "data": {
      "text/plain": [
       "<matplotlib.legend.Legend at 0x23784ceef48>"
      ]
     },
     "execution_count": 424,
     "metadata": {},
     "output_type": "execute_result"
    },
    {
     "data": {
      "image/png": "[encoded data removed]",
      "text/plain": [
       "<Figure size 576x576 with 1 Axes>"
      ]
     },
     "metadata": {
      "needs_background": "light"
     },
     "output_type": "display_data"
    }
   ],
   "source": [
    "%matplotlib inline\n",
    "# Creating a bar plot\n",
    "plt.figure(figsize=(8, 8))\n",
    "sns.barplot(x=feature_imp, y=feature_imp.index)\n",
    "# Add labels to your graph\n",
    "plt.xlabel('Feature Importance Score')\n",
    "plt.ylabel('Features')\n",
    "plt.title(\"Feature Importance\")\n",
    "plt.legend()"
   ]
  },
  {
   "cell_type": "markdown",
   "metadata": {},
   "source": [
    "### Let me now try the same data on a LogReg"
   ]
  },
  {
   "cell_type": "code",
   "execution_count": 216,
   "metadata": {},
   "outputs": [],
   "source": [
    "# This improve the results, so maybe I need more data"
   ]
  },
  {
   "cell_type": "code",
   "execution_count": 166,
   "metadata": {},
   "outputs": [],
   "source": [
    "# I already have my X an y defined, but I canb still play around with the traintest ratio\n",
    "\n",
    "# Define our X and y\n",
    "X = feat.drop(columns=['Gap','Rnk','Time','Winnin Avg_speed'])\n",
    "y = feat['Gap']\n",
    "\n",
    "\n",
    "X_train, X_test, y_train, y_test = train_test_split(X, y, test_size = 0.15, random_state=1)\n",
    "\n",
    "#The sampling Strategy defines the ratio I'd like to have from the minority class to the majority class\n",
    "# Note that only the Train data is being oversampled\n",
    "sm = SMOTE(sampling_strategy=0.5)\n",
    "X_res, y_res = sm.fit_sample(X_train, y_train)\n"
   ]
  },
  {
   "cell_type": "code",
   "execution_count": 437,
   "metadata": {},
   "outputs": [
    {
     "name": "stdout",
     "output_type": "stream",
     "text": [
      "              precision    recall  f1-score   support\n",
      "\n",
      "           0       0.99      0.89      0.94      1065\n",
      "           1       0.01      0.17      0.02         6\n",
      "\n",
      "    accuracy                           0.88      1071\n",
      "   macro avg       0.50      0.53      0.48      1071\n",
      "weighted avg       0.99      0.88      0.93      1071\n",
      "\n"
     ]
    },
    {
     "name": "stderr",
     "output_type": "stream",
     "text": [
      "C:\\Users\\renan\\Anaconda3\\lib\\site-packages\\sklearn\\linear_model\\_logistic.py:940: ConvergenceWarning: lbfgs failed to converge (status=1):\n",
      "STOP: TOTAL NO. of ITERATIONS REACHED LIMIT.\n",
      "\n",
      "Increase the number of iterations (max_iter) or scale the data as shown in:\n",
      "    https://scikit-learn.org/stable/modules/preprocessing.html\n",
      "Please also refer to the documentation for alternative solver options:\n",
      "    https://scikit-learn.org/stable/modules/linear_model.html#logistic-regression\n",
      "  extra_warning_msg=_LOGISTIC_SOLVER_CONVERGENCE_MSG)\n"
     ]
    },
    {
     "data": {
      "text/html": [
       "<div>\n",
       "<style scoped>\n",
       "    .dataframe tbody tr th:only-of-type {\n",
       "        vertical-align: middle;\n",
       "    }\n",
       "\n",
       "    .dataframe tbody tr th {\n",
       "        vertical-align: top;\n",
       "    }\n",
       "\n",
       "    .dataframe thead th {\n",
       "        text-align: right;\n",
       "    }\n",
       "</style>\n",
       "<table border=\"1\" class=\"dataframe\">\n",
       "  <thead>\n",
       "    <tr style=\"text-align: right;\">\n",
       "      <th></th>\n",
       "      <th>0</th>\n",
       "    </tr>\n",
       "  </thead>\n",
       "  <tbody>\n",
       "    <tr>\n",
       "      <td>0</td>\n",
       "      <td>0</td>\n",
       "    </tr>\n",
       "    <tr>\n",
       "      <td>1</td>\n",
       "      <td>0</td>\n",
       "    </tr>\n",
       "    <tr>\n",
       "      <td>2</td>\n",
       "      <td>0</td>\n",
       "    </tr>\n",
       "    <tr>\n",
       "      <td>3</td>\n",
       "      <td>0</td>\n",
       "    </tr>\n",
       "    <tr>\n",
       "      <td>4</td>\n",
       "      <td>0</td>\n",
       "    </tr>\n",
       "    <tr>\n",
       "      <td>...</td>\n",
       "      <td>...</td>\n",
       "    </tr>\n",
       "    <tr>\n",
       "      <td>1066</td>\n",
       "      <td>0</td>\n",
       "    </tr>\n",
       "    <tr>\n",
       "      <td>1067</td>\n",
       "      <td>0</td>\n",
       "    </tr>\n",
       "    <tr>\n",
       "      <td>1068</td>\n",
       "      <td>0</td>\n",
       "    </tr>\n",
       "    <tr>\n",
       "      <td>1069</td>\n",
       "      <td>0</td>\n",
       "    </tr>\n",
       "    <tr>\n",
       "      <td>1070</td>\n",
       "      <td>0</td>\n",
       "    </tr>\n",
       "  </tbody>\n",
       "</table>\n",
       "<p>1071 rows × 1 columns</p>\n",
       "</div>"
      ],
      "text/plain": [
       "      0\n",
       "0     0\n",
       "1     0\n",
       "2     0\n",
       "3     0\n",
       "4     0\n",
       "...  ..\n",
       "1066  0\n",
       "1067  0\n",
       "1068  0\n",
       "1069  0\n",
       "1070  0\n",
       "\n",
       "[1071 rows x 1 columns]"
      ]
     },
     "execution_count": 437,
     "metadata": {},
     "output_type": "execute_result"
    }
   ],
   "source": [
    "from sklearn import preprocessing\n",
    "preprocessing.StandardScaler().fit(X_res)\n",
    "\n",
    "# 1. Instantiate and fit model\n",
    "my_logit = LogisticRegression()\n",
    "my_logit.fit (X_res, y_res)\n",
    "\n",
    "#predicttion on trainset\n",
    "my_logit_pred=my_logit.predict(X_test)\n",
    "\n",
    "\n",
    "\n",
    "\n",
    "# 3. Score model\n",
    "\n",
    "print(classification_report(y_test, my_logit_pred))\n",
    "pd.DataFrame(my_logit_pred)\n"
   ]
  },
  {
   "cell_type": "markdown",
   "metadata": {},
   "source": [
    "### Sample reduction using only the race winners"
   ]
  },
  {
   "cell_type": "code",
   "execution_count": 159,
   "metadata": {},
   "outputs": [
    {
     "name": "stderr",
     "output_type": "stream",
     "text": [
      "C:\\Users\\renan\\Anaconda3\\lib\\site-packages\\IPython\\core\\interactiveshell.py:3058: DtypeWarning: Columns (2,5) have mixed types. Specify dtype option on import or set low_memory=False.\n",
      "  interactivity=interactivity, compiler=compiler, result=result)\n"
     ]
    }
   ],
   "source": [
    "feat=pd.read_csv('TDF_modeltf')"
   ]
  },
  {
   "cell_type": "code",
   "execution_count": 160,
   "metadata": {},
   "outputs": [
    {
     "data": {
      "text/html": [
       "<div>\n",
       "<style scoped>\n",
       "    .dataframe tbody tr th:only-of-type {\n",
       "        vertical-align: middle;\n",
       "    }\n",
       "\n",
       "    .dataframe tbody tr th {\n",
       "        vertical-align: top;\n",
       "    }\n",
       "\n",
       "    .dataframe thead th {\n",
       "        text-align: right;\n",
       "    }\n",
       "</style>\n",
       "<table border=\"1\" class=\"dataframe\">\n",
       "  <thead>\n",
       "    <tr style=\"text-align: right;\">\n",
       "      <th></th>\n",
       "      <th>Unnamed: 0</th>\n",
       "      <th>Year</th>\n",
       "      <th>Stage</th>\n",
       "      <th>Distance</th>\n",
       "      <th>StageScore</th>\n",
       "      <th>Rnk</th>\n",
       "      <th>Rider</th>\n",
       "      <th>Age</th>\n",
       "      <th>Team</th>\n",
       "      <th>Time</th>\n",
       "      <th>Winnin Avg_speed</th>\n",
       "      <th>R_TT</th>\n",
       "      <th>R_onedayrace</th>\n",
       "      <th>R_climb</th>\n",
       "      <th>R_Sprint</th>\n",
       "      <th>R_GC</th>\n",
       "      <th>R_height</th>\n",
       "      <th>R_weight</th>\n",
       "      <th>Winner</th>\n",
       "      <th>Gap</th>\n",
       "    </tr>\n",
       "  </thead>\n",
       "  <tbody>\n",
       "    <tr>\n",
       "      <td>0</td>\n",
       "      <td>0</td>\n",
       "      <td>1980</td>\n",
       "      <td>10</td>\n",
       "      <td>163</td>\n",
       "      <td>0</td>\n",
       "      <td>1</td>\n",
       "      <td>Priem CeesTI Raleigh - Creda</td>\n",
       "      <td>29</td>\n",
       "      <td>TI Raleigh - Creda</td>\n",
       "      <td>0 days 04:42:58.000000000</td>\n",
       "      <td>34.560</td>\n",
       "      <td>919</td>\n",
       "      <td>1353</td>\n",
       "      <td>836</td>\n",
       "      <td>1588</td>\n",
       "      <td>1646</td>\n",
       "      <td>180</td>\n",
       "      <td>68</td>\n",
       "      <td>1</td>\n",
       "      <td>0</td>\n",
       "    </tr>\n",
       "    <tr>\n",
       "      <td>1</td>\n",
       "      <td>1</td>\n",
       "      <td>1980</td>\n",
       "      <td>10</td>\n",
       "      <td>163</td>\n",
       "      <td>0</td>\n",
       "      <td>2</td>\n",
       "      <td>Osmont JacquesBoston - IFI - Mavic</td>\n",
       "      <td>26</td>\n",
       "      <td>Boston - IFI - Mavic</td>\n",
       "      <td>0 days 00:00:02.000000000</td>\n",
       "      <td>34.560</td>\n",
       "      <td>919</td>\n",
       "      <td>1353</td>\n",
       "      <td>836</td>\n",
       "      <td>1588</td>\n",
       "      <td>1646</td>\n",
       "      <td>180</td>\n",
       "      <td>68</td>\n",
       "      <td>0</td>\n",
       "      <td>0</td>\n",
       "    </tr>\n",
       "    <tr>\n",
       "      <td>2</td>\n",
       "      <td>2</td>\n",
       "      <td>1980</td>\n",
       "      <td>10</td>\n",
       "      <td>163</td>\n",
       "      <td>0</td>\n",
       "      <td>3</td>\n",
       "      <td>Bertin YvonRenault - Gitane - Campagnolo</td>\n",
       "      <td>27</td>\n",
       "      <td>Renault - Gitane - Campagnolo</td>\n",
       "      <td>0 days 00:00:00.000000000</td>\n",
       "      <td>34.560</td>\n",
       "      <td>919</td>\n",
       "      <td>1353</td>\n",
       "      <td>836</td>\n",
       "      <td>1588</td>\n",
       "      <td>1646</td>\n",
       "      <td>180</td>\n",
       "      <td>68</td>\n",
       "      <td>0</td>\n",
       "      <td>0</td>\n",
       "    </tr>\n",
       "    <tr>\n",
       "      <td>3</td>\n",
       "      <td>3</td>\n",
       "      <td>1980</td>\n",
       "      <td>10</td>\n",
       "      <td>163</td>\n",
       "      <td>0</td>\n",
       "      <td>4</td>\n",
       "      <td>Raas JanTI Raleigh - Creda</td>\n",
       "      <td>27</td>\n",
       "      <td>TI Raleigh - Creda</td>\n",
       "      <td>0 days 00:00:00.000000000</td>\n",
       "      <td>34.560</td>\n",
       "      <td>919</td>\n",
       "      <td>1353</td>\n",
       "      <td>836</td>\n",
       "      <td>1588</td>\n",
       "      <td>1646</td>\n",
       "      <td>180</td>\n",
       "      <td>68</td>\n",
       "      <td>0</td>\n",
       "      <td>0</td>\n",
       "    </tr>\n",
       "    <tr>\n",
       "      <td>4</td>\n",
       "      <td>4</td>\n",
       "      <td>1980</td>\n",
       "      <td>10</td>\n",
       "      <td>163</td>\n",
       "      <td>0</td>\n",
       "      <td>5</td>\n",
       "      <td>Tackaert WilliamDaf Trucks - Lejeune - PZ</td>\n",
       "      <td>23</td>\n",
       "      <td>Daf Trucks - Lejeune - PZ</td>\n",
       "      <td>0 days 00:00:00.000000000</td>\n",
       "      <td>34.560</td>\n",
       "      <td>919</td>\n",
       "      <td>1353</td>\n",
       "      <td>836</td>\n",
       "      <td>1588</td>\n",
       "      <td>1646</td>\n",
       "      <td>180</td>\n",
       "      <td>68</td>\n",
       "      <td>0</td>\n",
       "      <td>0</td>\n",
       "    </tr>\n",
       "    <tr>\n",
       "      <td>...</td>\n",
       "      <td>...</td>\n",
       "      <td>...</td>\n",
       "      <td>...</td>\n",
       "      <td>...</td>\n",
       "      <td>...</td>\n",
       "      <td>...</td>\n",
       "      <td>...</td>\n",
       "      <td>...</td>\n",
       "      <td>...</td>\n",
       "      <td>...</td>\n",
       "      <td>...</td>\n",
       "      <td>...</td>\n",
       "      <td>...</td>\n",
       "      <td>...</td>\n",
       "      <td>...</td>\n",
       "      <td>...</td>\n",
       "      <td>...</td>\n",
       "      <td>...</td>\n",
       "      <td>...</td>\n",
       "      <td>...</td>\n",
       "    </tr>\n",
       "    <tr>\n",
       "      <td>209222</td>\n",
       "      <td>209222</td>\n",
       "      <td>2019</td>\n",
       "      <td>9</td>\n",
       "      <td>170</td>\n",
       "      <td>107</td>\n",
       "      <td>169</td>\n",
       "      <td>Roger-Kluge</td>\n",
       "      <td>33</td>\n",
       "      <td>Lotto Soudal</td>\n",
       "      <td>0 days 00:00:02.000000000</td>\n",
       "      <td>42.064</td>\n",
       "      <td>466</td>\n",
       "      <td>401</td>\n",
       "      <td>41</td>\n",
       "      <td>1409</td>\n",
       "      <td>351</td>\n",
       "      <td>192</td>\n",
       "      <td>83</td>\n",
       "      <td>0</td>\n",
       "      <td>0</td>\n",
       "    </tr>\n",
       "    <tr>\n",
       "      <td>209223</td>\n",
       "      <td>209223</td>\n",
       "      <td>2019</td>\n",
       "      <td>9</td>\n",
       "      <td>170</td>\n",
       "      <td>107</td>\n",
       "      <td>170</td>\n",
       "      <td>Caleb-Ewan</td>\n",
       "      <td>25</td>\n",
       "      <td>Lotto Soudal</td>\n",
       "      <td>0 days 00:00:02.000000000</td>\n",
       "      <td>42.064</td>\n",
       "      <td>148</td>\n",
       "      <td>1224</td>\n",
       "      <td>201</td>\n",
       "      <td>4592</td>\n",
       "      <td>201</td>\n",
       "      <td>165</td>\n",
       "      <td>67</td>\n",
       "      <td>0</td>\n",
       "      <td>0</td>\n",
       "    </tr>\n",
       "    <tr>\n",
       "      <td>209224</td>\n",
       "      <td>209224</td>\n",
       "      <td>2019</td>\n",
       "      <td>9</td>\n",
       "      <td>170</td>\n",
       "      <td>107</td>\n",
       "      <td>170</td>\n",
       "      <td>Caleb-Ewan</td>\n",
       "      <td>25</td>\n",
       "      <td>Lotto Soudal</td>\n",
       "      <td>0 days 00:00:02.000000000</td>\n",
       "      <td>42.064</td>\n",
       "      <td>148</td>\n",
       "      <td>1224</td>\n",
       "      <td>201</td>\n",
       "      <td>4592</td>\n",
       "      <td>201</td>\n",
       "      <td>165</td>\n",
       "      <td>67</td>\n",
       "      <td>0</td>\n",
       "      <td>0</td>\n",
       "    </tr>\n",
       "    <tr>\n",
       "      <td>209225</td>\n",
       "      <td>209225</td>\n",
       "      <td>2019</td>\n",
       "      <td>9</td>\n",
       "      <td>170</td>\n",
       "      <td>107</td>\n",
       "      <td>171</td>\n",
       "      <td>Peter-Sagan</td>\n",
       "      <td>29</td>\n",
       "      <td>BORA - hansgrohe</td>\n",
       "      <td>0 days 00:00:02.000000000</td>\n",
       "      <td>42.064</td>\n",
       "      <td>1280</td>\n",
       "      <td>8791</td>\n",
       "      <td>3038</td>\n",
       "      <td>3505</td>\n",
       "      <td>1496</td>\n",
       "      <td>184</td>\n",
       "      <td>78</td>\n",
       "      <td>0</td>\n",
       "      <td>0</td>\n",
       "    </tr>\n",
       "    <tr>\n",
       "      <td>209226</td>\n",
       "      <td>209226</td>\n",
       "      <td>2019</td>\n",
       "      <td>9</td>\n",
       "      <td>170</td>\n",
       "      <td>107</td>\n",
       "      <td>171</td>\n",
       "      <td>Peter-Sagan</td>\n",
       "      <td>29</td>\n",
       "      <td>BORA - hansgrohe</td>\n",
       "      <td>0 days 00:00:02.000000000</td>\n",
       "      <td>42.064</td>\n",
       "      <td>1280</td>\n",
       "      <td>8791</td>\n",
       "      <td>3038</td>\n",
       "      <td>3505</td>\n",
       "      <td>1496</td>\n",
       "      <td>184</td>\n",
       "      <td>78</td>\n",
       "      <td>0</td>\n",
       "      <td>0</td>\n",
       "    </tr>\n",
       "  </tbody>\n",
       "</table>\n",
       "<p>209227 rows × 20 columns</p>\n",
       "</div>"
      ],
      "text/plain": [
       "        Unnamed: 0  Year Stage  Distance  StageScore  Rnk  \\\n",
       "0                0  1980    10       163           0    1   \n",
       "1                1  1980    10       163           0    2   \n",
       "2                2  1980    10       163           0    3   \n",
       "3                3  1980    10       163           0    4   \n",
       "4                4  1980    10       163           0    5   \n",
       "...            ...   ...   ...       ...         ...  ...   \n",
       "209222      209222  2019     9       170         107  169   \n",
       "209223      209223  2019     9       170         107  170   \n",
       "209224      209224  2019     9       170         107  170   \n",
       "209225      209225  2019     9       170         107  171   \n",
       "209226      209226  2019     9       170         107  171   \n",
       "\n",
       "                                            Rider  Age  \\\n",
       "0                    Priem CeesTI Raleigh - Creda   29   \n",
       "1              Osmont JacquesBoston - IFI - Mavic   26   \n",
       "2        Bertin YvonRenault - Gitane - Campagnolo   27   \n",
       "3                      Raas JanTI Raleigh - Creda   27   \n",
       "4       Tackaert WilliamDaf Trucks - Lejeune - PZ   23   \n",
       "...                                           ...  ...   \n",
       "209222                                Roger-Kluge   33   \n",
       "209223                                 Caleb-Ewan   25   \n",
       "209224                                 Caleb-Ewan   25   \n",
       "209225                                Peter-Sagan   29   \n",
       "209226                                Peter-Sagan   29   \n",
       "\n",
       "                                 Team                       Time  \\\n",
       "0                  TI Raleigh - Creda  0 days 04:42:58.000000000   \n",
       "1                Boston - IFI - Mavic  0 days 00:00:02.000000000   \n",
       "2       Renault - Gitane - Campagnolo  0 days 00:00:00.000000000   \n",
       "3                  TI Raleigh - Creda  0 days 00:00:00.000000000   \n",
       "4           Daf Trucks - Lejeune - PZ  0 days 00:00:00.000000000   \n",
       "...                               ...                        ...   \n",
       "209222                   Lotto Soudal  0 days 00:00:02.000000000   \n",
       "209223                   Lotto Soudal  0 days 00:00:02.000000000   \n",
       "209224                   Lotto Soudal  0 days 00:00:02.000000000   \n",
       "209225               BORA - hansgrohe  0 days 00:00:02.000000000   \n",
       "209226               BORA - hansgrohe  0 days 00:00:02.000000000   \n",
       "\n",
       "        Winnin Avg_speed  R_TT  R_onedayrace  R_climb  R_Sprint  R_GC  \\\n",
       "0                 34.560   919          1353      836      1588  1646   \n",
       "1                 34.560   919          1353      836      1588  1646   \n",
       "2                 34.560   919          1353      836      1588  1646   \n",
       "3                 34.560   919          1353      836      1588  1646   \n",
       "4                 34.560   919          1353      836      1588  1646   \n",
       "...                  ...   ...           ...      ...       ...   ...   \n",
       "209222            42.064   466           401       41      1409   351   \n",
       "209223            42.064   148          1224      201      4592   201   \n",
       "209224            42.064   148          1224      201      4592   201   \n",
       "209225            42.064  1280          8791     3038      3505  1496   \n",
       "209226            42.064  1280          8791     3038      3505  1496   \n",
       "\n",
       "        R_height  R_weight  Winner  Gap  \n",
       "0            180        68       1    0  \n",
       "1            180        68       0    0  \n",
       "2            180        68       0    0  \n",
       "3            180        68       0    0  \n",
       "4            180        68       0    0  \n",
       "...          ...       ...     ...  ...  \n",
       "209222       192        83       0    0  \n",
       "209223       165        67       0    0  \n",
       "209224       165        67       0    0  \n",
       "209225       184        78       0    0  \n",
       "209226       184        78       0    0  \n",
       "\n",
       "[209227 rows x 20 columns]"
      ]
     },
     "execution_count": 160,
     "metadata": {},
     "output_type": "execute_result"
    }
   ],
   "source": [
    "feat"
   ]
  },
  {
   "cell_type": "code",
   "execution_count": 161,
   "metadata": {
    "scrolled": true
   },
   "outputs": [],
   "source": [
    "winners=feat[feat['Rnk']==1]"
   ]
  },
  {
   "cell_type": "code",
   "execution_count": 162,
   "metadata": {},
   "outputs": [
    {
     "data": {
      "text/html": [
       "<div>\n",
       "<style scoped>\n",
       "    .dataframe tbody tr th:only-of-type {\n",
       "        vertical-align: middle;\n",
       "    }\n",
       "\n",
       "    .dataframe tbody tr th {\n",
       "        vertical-align: top;\n",
       "    }\n",
       "\n",
       "    .dataframe thead th {\n",
       "        text-align: right;\n",
       "    }\n",
       "</style>\n",
       "<table border=\"1\" class=\"dataframe\">\n",
       "  <thead>\n",
       "    <tr style=\"text-align: right;\">\n",
       "      <th></th>\n",
       "      <th>Unnamed: 0</th>\n",
       "      <th>Year</th>\n",
       "      <th>Stage</th>\n",
       "      <th>Distance</th>\n",
       "      <th>StageScore</th>\n",
       "      <th>Rnk</th>\n",
       "      <th>Rider</th>\n",
       "      <th>Age</th>\n",
       "      <th>Team</th>\n",
       "      <th>Time</th>\n",
       "      <th>Winnin Avg_speed</th>\n",
       "      <th>R_TT</th>\n",
       "      <th>R_onedayrace</th>\n",
       "      <th>R_climb</th>\n",
       "      <th>R_Sprint</th>\n",
       "      <th>R_GC</th>\n",
       "      <th>R_height</th>\n",
       "      <th>R_weight</th>\n",
       "      <th>Winner</th>\n",
       "      <th>Gap</th>\n",
       "    </tr>\n",
       "  </thead>\n",
       "  <tbody>\n",
       "    <tr>\n",
       "      <td>0</td>\n",
       "      <td>0</td>\n",
       "      <td>1980</td>\n",
       "      <td>10</td>\n",
       "      <td>163</td>\n",
       "      <td>0</td>\n",
       "      <td>1</td>\n",
       "      <td>Priem CeesTI Raleigh - Creda</td>\n",
       "      <td>29</td>\n",
       "      <td>TI Raleigh - Creda</td>\n",
       "      <td>0 days 04:42:58.000000000</td>\n",
       "      <td>34.56</td>\n",
       "      <td>919</td>\n",
       "      <td>1353</td>\n",
       "      <td>836</td>\n",
       "      <td>1588</td>\n",
       "      <td>1646</td>\n",
       "      <td>180</td>\n",
       "      <td>68</td>\n",
       "      <td>1</td>\n",
       "      <td>0</td>\n",
       "    </tr>\n",
       "    <tr>\n",
       "      <td>115</td>\n",
       "      <td>115</td>\n",
       "      <td>1980</td>\n",
       "      <td>11</td>\n",
       "      <td>51</td>\n",
       "      <td>0</td>\n",
       "      <td>1</td>\n",
       "      <td>Zoetemelk JoopTI Raleigh - Creda</td>\n",
       "      <td>33</td>\n",
       "      <td>TI Raleigh - Creda</td>\n",
       "      <td>0 days 01:10:24.000000000</td>\n",
       "      <td>43.47</td>\n",
       "      <td>919</td>\n",
       "      <td>1353</td>\n",
       "      <td>836</td>\n",
       "      <td>1588</td>\n",
       "      <td>1646</td>\n",
       "      <td>180</td>\n",
       "      <td>68</td>\n",
       "      <td>1</td>\n",
       "      <td>1</td>\n",
       "    </tr>\n",
       "    <tr>\n",
       "      <td>229</td>\n",
       "      <td>229</td>\n",
       "      <td>1980</td>\n",
       "      <td>12</td>\n",
       "      <td>194</td>\n",
       "      <td>0</td>\n",
       "      <td>1</td>\n",
       "      <td>Knetemann GerrieTI Raleigh - Creda</td>\n",
       "      <td>29</td>\n",
       "      <td>TI Raleigh - Creda</td>\n",
       "      <td>0 days 05:45:24.000000000</td>\n",
       "      <td>33.70</td>\n",
       "      <td>919</td>\n",
       "      <td>1353</td>\n",
       "      <td>836</td>\n",
       "      <td>1588</td>\n",
       "      <td>1646</td>\n",
       "      <td>180</td>\n",
       "      <td>68</td>\n",
       "      <td>1</td>\n",
       "      <td>0</td>\n",
       "    </tr>\n",
       "    <tr>\n",
       "      <td>342</td>\n",
       "      <td>342</td>\n",
       "      <td>1980</td>\n",
       "      <td>13</td>\n",
       "      <td>200</td>\n",
       "      <td>100</td>\n",
       "      <td>1</td>\n",
       "      <td>Martin RaymondMiko - Mercier - Vivagel</td>\n",
       "      <td>31</td>\n",
       "      <td>Miko - Mercier - Vivagel</td>\n",
       "      <td>0 days 06:27:32.000000000</td>\n",
       "      <td>30.97</td>\n",
       "      <td>919</td>\n",
       "      <td>1353</td>\n",
       "      <td>836</td>\n",
       "      <td>1588</td>\n",
       "      <td>1646</td>\n",
       "      <td>180</td>\n",
       "      <td>68</td>\n",
       "      <td>1</td>\n",
       "      <td>1</td>\n",
       "    </tr>\n",
       "    <tr>\n",
       "      <td>443</td>\n",
       "      <td>443</td>\n",
       "      <td>1980</td>\n",
       "      <td>14</td>\n",
       "      <td>189</td>\n",
       "      <td>0</td>\n",
       "      <td>1</td>\n",
       "      <td>Peeters LudoIjsboerke - Warncke Eis - Koga Miyata</td>\n",
       "      <td>26</td>\n",
       "      <td>Ijsboerke - Warncke Eis - Koga Miyata</td>\n",
       "      <td>0 days 05:34:49.000000000</td>\n",
       "      <td>33.87</td>\n",
       "      <td>919</td>\n",
       "      <td>1353</td>\n",
       "      <td>836</td>\n",
       "      <td>1588</td>\n",
       "      <td>1646</td>\n",
       "      <td>180</td>\n",
       "      <td>68</td>\n",
       "      <td>1</td>\n",
       "      <td>1</td>\n",
       "    </tr>\n",
       "  </tbody>\n",
       "</table>\n",
       "</div>"
      ],
      "text/plain": [
       "     Unnamed: 0  Year Stage  Distance  StageScore Rnk  \\\n",
       "0             0  1980    10       163           0   1   \n",
       "115         115  1980    11        51           0   1   \n",
       "229         229  1980    12       194           0   1   \n",
       "342         342  1980    13       200         100   1   \n",
       "443         443  1980    14       189           0   1   \n",
       "\n",
       "                                                 Rider  Age  \\\n",
       "0                         Priem CeesTI Raleigh - Creda   29   \n",
       "115                   Zoetemelk JoopTI Raleigh - Creda   33   \n",
       "229                 Knetemann GerrieTI Raleigh - Creda   29   \n",
       "342             Martin RaymondMiko - Mercier - Vivagel   31   \n",
       "443  Peeters LudoIjsboerke - Warncke Eis - Koga Miyata   26   \n",
       "\n",
       "                                      Team                       Time  \\\n",
       "0                       TI Raleigh - Creda  0 days 04:42:58.000000000   \n",
       "115                     TI Raleigh - Creda  0 days 01:10:24.000000000   \n",
       "229                     TI Raleigh - Creda  0 days 05:45:24.000000000   \n",
       "342               Miko - Mercier - Vivagel  0 days 06:27:32.000000000   \n",
       "443  Ijsboerke - Warncke Eis - Koga Miyata  0 days 05:34:49.000000000   \n",
       "\n",
       "     Winnin Avg_speed  R_TT  R_onedayrace  R_climb  R_Sprint  R_GC  R_height  \\\n",
       "0               34.56   919          1353      836      1588  1646       180   \n",
       "115             43.47   919          1353      836      1588  1646       180   \n",
       "229             33.70   919          1353      836      1588  1646       180   \n",
       "342             30.97   919          1353      836      1588  1646       180   \n",
       "443             33.87   919          1353      836      1588  1646       180   \n",
       "\n",
       "     R_weight  Winner  Gap  \n",
       "0          68       1    0  \n",
       "115        68       1    1  \n",
       "229        68       1    0  \n",
       "342        68       1    1  \n",
       "443        68       1    1  "
      ]
     },
     "execution_count": 162,
     "metadata": {},
     "output_type": "execute_result"
    }
   ],
   "source": [
    "winners.head(5)"
   ]
  },
  {
   "cell_type": "code",
   "execution_count": 163,
   "metadata": {},
   "outputs": [
    {
     "data": {
      "image/png": "[encoded data removed]",
      "text/plain": [
       "<Figure size 432x288 with 1 Axes>"
      ]
     },
     "metadata": {
      "needs_background": "light"
     },
     "output_type": "display_data"
    }
   ],
   "source": [
    "sns.countplot(winners['Gap'])\n",
    "plt.title(\"Bar Plot (Count)\");"
   ]
  },
  {
   "cell_type": "code",
   "execution_count": 171,
   "metadata": {},
   "outputs": [
    {
     "data": {
      "text/html": [
       "<div>\n",
       "<style scoped>\n",
       "    .dataframe tbody tr th:only-of-type {\n",
       "        vertical-align: middle;\n",
       "    }\n",
       "\n",
       "    .dataframe tbody tr th {\n",
       "        vertical-align: top;\n",
       "    }\n",
       "\n",
       "    .dataframe thead th {\n",
       "        text-align: right;\n",
       "    }\n",
       "</style>\n",
       "<table border=\"1\" class=\"dataframe\">\n",
       "  <thead>\n",
       "    <tr style=\"text-align: right;\">\n",
       "      <th></th>\n",
       "      <th>Unnamed: 0</th>\n",
       "      <th>Year</th>\n",
       "      <th>Stage</th>\n",
       "      <th>Distance</th>\n",
       "      <th>StageScore</th>\n",
       "      <th>Rnk</th>\n",
       "      <th>Rider</th>\n",
       "      <th>Age</th>\n",
       "      <th>Team</th>\n",
       "      <th>Time</th>\n",
       "      <th>Winnin Avg_speed</th>\n",
       "      <th>R_TT</th>\n",
       "      <th>R_onedayrace</th>\n",
       "      <th>R_climb</th>\n",
       "      <th>R_Sprint</th>\n",
       "      <th>R_GC</th>\n",
       "      <th>R_height</th>\n",
       "      <th>R_weight</th>\n",
       "      <th>Winner</th>\n",
       "      <th>Gap</th>\n",
       "    </tr>\n",
       "  </thead>\n",
       "  <tbody>\n",
       "    <tr>\n",
       "      <td>0</td>\n",
       "      <td>0</td>\n",
       "      <td>1980</td>\n",
       "      <td>10</td>\n",
       "      <td>163</td>\n",
       "      <td>0</td>\n",
       "      <td>1</td>\n",
       "      <td>Priem CeesTI Raleigh - Creda</td>\n",
       "      <td>29</td>\n",
       "      <td>TI Raleigh - Creda</td>\n",
       "      <td>0 days 04:42:58.000000000</td>\n",
       "      <td>34.56</td>\n",
       "      <td>919</td>\n",
       "      <td>1353</td>\n",
       "      <td>836</td>\n",
       "      <td>1588</td>\n",
       "      <td>1646</td>\n",
       "      <td>180</td>\n",
       "      <td>68</td>\n",
       "      <td>1</td>\n",
       "      <td>0</td>\n",
       "    </tr>\n",
       "    <tr>\n",
       "      <td>115</td>\n",
       "      <td>115</td>\n",
       "      <td>1980</td>\n",
       "      <td>11</td>\n",
       "      <td>51</td>\n",
       "      <td>0</td>\n",
       "      <td>1</td>\n",
       "      <td>Zoetemelk JoopTI Raleigh - Creda</td>\n",
       "      <td>33</td>\n",
       "      <td>TI Raleigh - Creda</td>\n",
       "      <td>0 days 01:10:24.000000000</td>\n",
       "      <td>43.47</td>\n",
       "      <td>919</td>\n",
       "      <td>1353</td>\n",
       "      <td>836</td>\n",
       "      <td>1588</td>\n",
       "      <td>1646</td>\n",
       "      <td>180</td>\n",
       "      <td>68</td>\n",
       "      <td>1</td>\n",
       "      <td>1</td>\n",
       "    </tr>\n",
       "  </tbody>\n",
       "</table>\n",
       "</div>"
      ],
      "text/plain": [
       "     Unnamed: 0  Year Stage  Distance  StageScore Rnk  \\\n",
       "0             0  1980    10       163           0   1   \n",
       "115         115  1980    11        51           0   1   \n",
       "\n",
       "                                Rider  Age                Team  \\\n",
       "0        Priem CeesTI Raleigh - Creda   29  TI Raleigh - Creda   \n",
       "115  Zoetemelk JoopTI Raleigh - Creda   33  TI Raleigh - Creda   \n",
       "\n",
       "                          Time  Winnin Avg_speed  R_TT  R_onedayrace  R_climb  \\\n",
       "0    0 days 04:42:58.000000000             34.56   919          1353      836   \n",
       "115  0 days 01:10:24.000000000             43.47   919          1353      836   \n",
       "\n",
       "     R_Sprint  R_GC  R_height  R_weight  Winner  Gap  \n",
       "0        1588  1646       180        68       1    0  \n",
       "115      1588  1646       180        68       1    1  "
      ]
     },
     "execution_count": 171,
     "metadata": {},
     "output_type": "execute_result"
    }
   ],
   "source": [
    "winners.head(2)"
   ]
  },
  {
   "cell_type": "code",
   "execution_count": 173,
   "metadata": {},
   "outputs": [
    {
     "name": "stderr",
     "output_type": "stream",
     "text": [
      "C:\\Users\\renan\\Anaconda3\\lib\\site-packages\\pandas\\core\\frame.py:4102: SettingWithCopyWarning: \n",
      "A value is trying to be set on a copy of a slice from a DataFrame\n",
      "\n",
      "See the caveats in the documentation: http://pandas.pydata.org/pandas-docs/stable/user_guide/indexing.html#returning-a-view-versus-a-copy\n",
      "  errors=errors,\n"
     ]
    }
   ],
   "source": [
    "winners.drop(columns=['Year','Stage','Unnamed: 0', 'Rider', 'Team', 'Time', 'Winner', 'Rnk'],  inplace=True)"
   ]
  },
  {
   "cell_type": "code",
   "execution_count": 174,
   "metadata": {},
   "outputs": [],
   "source": [
    "# Check if there is much change to the correlation in this case, I assume there shouldn't be\n",
    "\n",
    "featcorr=winners.corr()"
   ]
  },
  {
   "cell_type": "code",
   "execution_count": 175,
   "metadata": {
    "scrolled": false
   },
   "outputs": [
    {
     "data": {
      "image/png": "[encoded data removed]",
      "text/plain": [
       "<Figure size 1080x720 with 2 Axes>"
      ]
     },
     "metadata": {
      "needs_background": "light"
     },
     "output_type": "display_data"
    }
   ],
   "source": [
    "plt.figure(figsize=(15,10))\n",
    "sns.heatmap(featcorr,cmap='coolwarm', center=0,annot=True, linewidths=3, vmin=-1, vmax=1)\n",
    "# Don't worry about this, work-around for matplotlib issue where top\n",
    "plt.ylim(len(featcorr.columns),-0.5, -0.5)\n",
    "\n",
    "plt.show()"
   ]
  },
  {
   "cell_type": "code",
   "execution_count": 176,
   "metadata": {},
   "outputs": [],
   "source": [
    "#First we create a matrix of zeroes that we will use like a mask to place over the upper triangle of our heatmap\n",
    "mask = np.zeros_like(featcorr, dtype=np.bool)\n",
    "\n",
    "# np.triu_indices_from returns the upper triangle, which we are setting to True\n",
    "mask[np.triu_indices_from(mask)] = True"
   ]
  },
  {
   "cell_type": "code",
   "execution_count": 177,
   "metadata": {},
   "outputs": [
    {
     "data": {
      "image/png": "[encoded data removed]",
      "text/plain": [
       "<Figure size 720x720 with 1 Axes>"
      ]
     },
     "metadata": {
      "needs_background": "light"
     },
     "output_type": "display_data"
    }
   ],
   "source": [
    "plt.figure(figsize=(10,10))\n",
    "sns.heatmap(featcorr[['Gap']].sort_values(by='Gap'), cbar = False ,cmap='coolwarm', center=0, annot=True, linewidths = 3)\n",
    "plt.ylim(len(featcorr.columns),-0.5, -0.5)\n",
    "plt.show()"
   ]
  },
  {
   "cell_type": "markdown",
   "metadata": {},
   "source": [
    "### Now, using just the winners of every stage and comparing the ones that did it in a breakaway as my target the correlations make much more sense, the stage score being the strongest, as I would expect from experience. "
   ]
  },
  {
   "cell_type": "code",
   "execution_count": null,
   "metadata": {},
   "outputs": [],
   "source": []
  },
  {
   "cell_type": "code",
   "execution_count": 178,
   "metadata": {},
   "outputs": [],
   "source": [
    "from sklearn.linear_model import LogisticRegression\n",
    "from sklearn.metrics import confusion_matrix\n",
    "from sklearn.metrics import precision_score\n",
    "from sklearn.metrics import recall_score\n",
    "from sklearn.metrics import f1_score\n",
    "from sklearn.metrics import classification_report"
   ]
  },
  {
   "cell_type": "code",
   "execution_count": 181,
   "metadata": {},
   "outputs": [
    {
     "data": {
      "text/plain": [
       "Index(['Distance', 'StageScore', 'Age', 'Winnin Avg_speed', 'R_TT',\n",
       "       'R_onedayrace', 'R_climb', 'R_Sprint', 'R_GC', 'R_height', 'R_weight',\n",
       "       'Gap'],\n",
       "      dtype='object')"
      ]
     },
     "execution_count": 181,
     "metadata": {},
     "output_type": "execute_result"
    }
   ],
   "source": [
    "winners.columns"
   ]
  },
  {
   "cell_type": "code",
   "execution_count": 190,
   "metadata": {},
   "outputs": [],
   "source": [
    "# I already have my X an y defined, but I canb still play around with the traintest ratio\n",
    "\n",
    "# Define our X and y\n",
    "X = winners.drop(columns=['Gap'])\n",
    "y = winners['Gap']\n",
    "\n",
    "\n",
    "X_train, X_test, y_train, y_test = train_test_split(X, y, test_size = 0.15, random_state=1)\n",
    "\n",
    "# Note that only the Train data is being oversampled\n",
    "sm = SMOTE()\n",
    "X_res, y_res = sm.fit_sample(X_train, y_train)\n"
   ]
  },
  {
   "cell_type": "code",
   "execution_count": 192,
   "metadata": {
    "scrolled": true
   },
   "outputs": [
    {
     "name": "stdout",
     "output_type": "stream",
     "text": [
      "              precision    recall  f1-score   support\n",
      "\n",
      "           0       0.67      0.80      0.73        41\n",
      "           1       0.53      0.36      0.43        25\n",
      "\n",
      "    accuracy                           0.64        66\n",
      "   macro avg       0.60      0.58      0.58        66\n",
      "weighted avg       0.62      0.64      0.62        66\n",
      "\n"
     ]
    }
   ],
   "source": [
    "from sklearn import preprocessing\n",
    "preprocessing.StandardScaler().fit(X_res)\n",
    "\n",
    "# 1. Instantiate and fit model\n",
    "my_logit = LogisticRegression()\n",
    "my_logit.fit (X_res, y_res)\n",
    "\n",
    "#predicttion on trainset\n",
    "my_logit_pred=my_logit.predict(X_test)\n",
    "\n",
    "\n",
    "\n",
    "\n",
    "# 3. Score model\n",
    "\n",
    "print(classification_report(y_test, my_logit_pred))\n",
    "\n"
   ]
  },
  {
   "cell_type": "markdown",
   "metadata": {},
   "source": [
    "Now even the logistic regression performs much better\n",
    "\n",
    "Let me try the Random Forest Classifier again"
   ]
  },
  {
   "cell_type": "code",
   "execution_count": 184,
   "metadata": {},
   "outputs": [],
   "source": [
    "#Now lets see what we get from a ramdom forest classifier\n",
    "estimators=range(1,60)\n",
    "valScore=[]\n",
    "valrecall=[]\n",
    "testScore=[]\n",
    "testrecall=[]\n",
    "accuraccy=[]\n",
    "\n",
    "for i in estimators:\n",
    "    clf_rf = RandomForestClassifier(n_estimators=i)\n",
    "    clf_rf.fit(X_res, y_res)\n",
    "    \n",
    "    y_pred=clf_rf.predict(X_test)\n",
    "\n",
    "   \n",
    "    valScore.append(clf_rf.score(X_test, y_test))\n",
    "    valrecall.append(recall_score(y_test, clf_rf.predict(X_test)))\n",
    "    \n",
    "    testScore.append(clf_rf.score(X, y))\n",
    "    testrecall.append(recall_score(y_test, clf_rf.predict(X_test)))\n",
    "    \n",
    "    accuraccy.append(metrics.accuracy_score(y_test, y_pred))"
   ]
  },
  {
   "cell_type": "code",
   "execution_count": 195,
   "metadata": {},
   "outputs": [
    {
     "name": "stdout",
     "output_type": "stream",
     "text": [
      "Test score: 0.8789954337899544\n",
      "Valrecall: 0.48\n",
      "ValScore: 0.6060606060606061\n",
      "TestRecall: 0.48\n",
      "Acurracy: 0.6060606060606061\n"
     ]
    }
   ],
   "source": [
    "print(f'Test score: {max(testScore)}')\n",
    "print(f'Valrecall: {max(valrecall)}')\n",
    "print(f'ValScore: {max(valScore)}')\n",
    "print(f'TestRecall: {max(testrecall)}')\n",
    "print(F'Acurracy: {max(accuraccy)}')\n"
   ]
  },
  {
   "cell_type": "code",
   "execution_count": 186,
   "metadata": {
    "scrolled": false
   },
   "outputs": [
    {
     "data": {
      "image/png": "[encoded data removed]",
      "text/plain": [
       "<Figure size 432x288 with 1 Axes>"
      ]
     },
     "metadata": {
      "needs_background": "light"
     },
     "output_type": "display_data"
    }
   ],
   "source": [
    "plt.figure()\n",
    "plt.plot(testrecall)\n",
    "plt.plot(testScore)\n",
    "plt.show()"
   ]
  },
  {
   "cell_type": "markdown",
   "metadata": {},
   "source": [
    "Since I don't have that much data now I want to try a stacking approach, this might improve my score for the minority class. \n"
   ]
  },
  {
   "cell_type": "code",
   "execution_count": 198,
   "metadata": {},
   "outputs": [
    {
     "data": {
      "text/plain": [
       "12496     0\n",
       "150499    0\n",
       "132022    0\n",
       "31485     0\n",
       "22465     1\n",
       "         ..\n",
       "133200    0\n",
       "8915      0\n",
       "156816    1\n",
       "32196     0\n",
       "4118      0\n",
       "Name: Gap, Length: 372, dtype: int64"
      ]
     },
     "execution_count": 198,
     "metadata": {},
     "output_type": "execute_result"
    }
   ],
   "source": [
    "y_train"
   ]
  },
  {
   "cell_type": "markdown",
   "metadata": {},
   "source": [
    "### I also thought of running a stack approach and let the votes define the best model. "
   ]
  },
  {
   "cell_type": "code",
   "execution_count": 203,
   "metadata": {},
   "outputs": [],
   "source": [
    "from sklearn.tree import DecisionTreeClassifier \n",
    "from sklearn import preprocessing\n",
    "from sklearn.neighbors import KNeighborsClassifier "
   ]
  },
  {
   "cell_type": "code",
   "execution_count": 207,
   "metadata": {},
   "outputs": [],
   "source": [
    "model1 = DecisionTreeClassifier()\n",
    "model2 = KNeighborsClassifier()\n",
    "model3= LogisticRegression()\n",
    "\n",
    "model1.fit(X_train,y_train)\n",
    "model2.fit(X_train,y_train)\n",
    "model3.fit(X_train,y_train)\n",
    "\n",
    "pred1=model1.predict(X_test)\n",
    "pred2=model2.predict(X_test)\n",
    "pred3=model3.predict(X_test)\n",
    "\n",
    "final_pred = np.array([])\n",
    "for i in range(0,len(X_test)):\n",
    "    final_pred = np.append(final_pred, np.mean([pred1[i], pred2[i], pred3[i]]))"
   ]
  },
  {
   "cell_type": "code",
   "execution_count": 215,
   "metadata": {},
   "outputs": [
    {
     "data": {
      "text/plain": [
       "0.560290441626105"
      ]
     },
     "execution_count": 215,
     "metadata": {},
     "output_type": "execute_result"
    }
   ],
   "source": [
    "model1 = DecisionTreeClassifier()\n",
    "model2 = KNeighborsClassifier()\n",
    "model3= LogisticRegression()\n",
    "\n",
    "model1.fit(X_train,y_train)\n",
    "model2.fit(X_train,y_train)\n",
    "model3.fit(X_train,y_train)\n",
    "\n",
    "pred1=model1.predict_proba(X_test)\n",
    "pred2=model2.predict_proba(X_test)\n",
    "pred3=model3.predict_proba(X_test)\n",
    "\n",
    "finalpred=(pred1+pred2+pred3)/3\n",
    "#Check the max score for class 1, the minority class\n",
    "max(finalpred[1])"
   ]
  },
  {
   "cell_type": "markdown",
   "metadata": {},
   "source": [
    "### This did not improve much from the other models, I think for now I stick to the Log Regression, despite not entirely happy with the data set. "
   ]
  }
 ],
 "metadata": {
  "kernelspec": {
   "display_name": "Python 3",
   "language": "python",
   "name": "python3"
  },
  "language_info": {
   "codemirror_mode": {
    "name": "ipython",
    "version": 3
   },
   "file_extension": ".py",
   "mimetype": "text/x-python",
   "name": "python",
   "nbconvert_exporter": "python",
   "pygments_lexer": "ipython3",
   "version": "3.7.4"
  }
 },
 "nbformat": 4,
 "nbformat_minor": 2
}
